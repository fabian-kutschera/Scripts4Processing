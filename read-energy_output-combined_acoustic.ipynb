{
 "cells": [
  {
   "cell_type": "markdown",
   "id": "fc407a30",
   "metadata": {},
   "source": [
    "# Plot energy in water layer"
   ]
  },
  {
   "cell_type": "code",
   "execution_count": 7,
   "id": "c2a16149",
   "metadata": {},
   "outputs": [],
   "source": [
    "import pandas as pd\n",
    "import numpy as np\n",
    "import matplotlib.pyplot as plt"
   ]
  },
  {
   "cell_type": "code",
   "execution_count": 25,
   "id": "dbbaa7aa",
   "metadata": {},
   "outputs": [],
   "source": [
    "plt.rcParams[\"font.family\"] = \"serif\"\n",
    "plt.rc('xtick', labelsize=11) \n",
    "plt.rc('ytick', labelsize=11)"
   ]
  },
  {
   "cell_type": "code",
   "execution_count": 3,
   "id": "91eb63f8",
   "metadata": {},
   "outputs": [],
   "source": [
    "sW = pd.read_csv(\"/import/freenas-m-04-students/fkutschera/simulations/HFFZ_fullycp_o5_180s_west/HFFZ_fu-energy.csv\")\n",
    "sM = pd.read_csv(\"/import/freenas-m-04-students/fkutschera/simulations/HFFZ_fullycp_o5_180s_middle/HFFZ_-energy.csv\")\n",
    "sE = pd.read_csv(\"/import/freenas-m-04-students/fkutschera/simulations/HFFZ_fullycp_o5_180s_east/HFFZ_full-energy.csv\")"
   ]
  },
  {
   "cell_type": "code",
   "execution_count": 34,
   "id": "d380632a",
   "metadata": {},
   "outputs": [],
   "source": [
    "def calculate_M0_Mw(df):\n",
    "    M0 = df['seismic_moment'][len(df)-1]\n",
    "    Mw = 2/3 * (np.log10(M0) - 9.1)\n",
    "    print(\"M0 = {} and Mw = {}.\".format(M0, Mw))\n",
    "    return M0, Mw"
   ]
  },
  {
   "cell_type": "code",
   "execution_count": 10,
   "id": "04c82b2d",
   "metadata": {},
   "outputs": [
    {
     "name": "stdout",
     "output_type": "stream",
     "text": [
      "M0 = 1.32542e+20 and Mw = 7.34823567974377.\n",
      "M0 = 1.29198e+20 and Mw = 7.3408371938548225.\n",
      "M0 = 1.31871e+20 and Mw = 7.34676619968586.\n"
     ]
    }
   ],
   "source": [
    "calculate_M0_Mw(sW)\n",
    "calculate_M0_Mw(sM)\n",
    "calculate_M0_Mw(sE)"
   ]
  },
  {
   "cell_type": "code",
   "execution_count": 13,
   "id": "08b4c798",
   "metadata": {},
   "outputs": [
    {
     "data": {
      "text/html": [
       "<div>\n",
       "<style scoped>\n",
       "    .dataframe tbody tr th:only-of-type {\n",
       "        vertical-align: middle;\n",
       "    }\n",
       "\n",
       "    .dataframe tbody tr th {\n",
       "        vertical-align: top;\n",
       "    }\n",
       "\n",
       "    .dataframe thead th {\n",
       "        text-align: right;\n",
       "    }\n",
       "</style>\n",
       "<table border=\"1\" class=\"dataframe\">\n",
       "  <thead>\n",
       "    <tr style=\"text-align: right;\">\n",
       "      <th></th>\n",
       "      <th>time</th>\n",
       "      <th>gravitational_energy</th>\n",
       "      <th>acoustic_energy</th>\n",
       "      <th>acoustic_kinetic_energy</th>\n",
       "      <th>elastic_energy</th>\n",
       "      <th>elastic_kinetic_energy</th>\n",
       "      <th>total_frictional_work</th>\n",
       "      <th>static_frictional_work</th>\n",
       "      <th>seismic_moment</th>\n",
       "      <th>plastic_moment</th>\n",
       "    </tr>\n",
       "  </thead>\n",
       "  <tbody>\n",
       "    <tr>\n",
       "      <th>0</th>\n",
       "      <td>0.0</td>\n",
       "      <td>0.000000e+00</td>\n",
       "      <td>0.000000e+00</td>\n",
       "      <td>0.000000e+00</td>\n",
       "      <td>0.000000e+00</td>\n",
       "      <td>0.000000e+00</td>\n",
       "      <td>0.000000e+00</td>\n",
       "      <td>0.000000e+00</td>\n",
       "      <td>0.000000e+00</td>\n",
       "      <td>0.000000e+00</td>\n",
       "    </tr>\n",
       "    <tr>\n",
       "      <th>1</th>\n",
       "      <td>0.1</td>\n",
       "      <td>9.024330e-69</td>\n",
       "      <td>1.413920e-54</td>\n",
       "      <td>1.484740e-54</td>\n",
       "      <td>1.468380e+11</td>\n",
       "      <td>5.371540e+10</td>\n",
       "      <td>2.169030e+11</td>\n",
       "      <td>1.409580e+11</td>\n",
       "      <td>7.390380e+14</td>\n",
       "      <td>-4.748890e+11</td>\n",
       "    </tr>\n",
       "    <tr>\n",
       "      <th>2</th>\n",
       "      <td>0.2</td>\n",
       "      <td>1.527450e-49</td>\n",
       "      <td>3.849240e-38</td>\n",
       "      <td>4.239700e-38</td>\n",
       "      <td>1.147000e+12</td>\n",
       "      <td>4.135810e+11</td>\n",
       "      <td>1.626720e+12</td>\n",
       "      <td>1.124390e+12</td>\n",
       "      <td>5.312520e+15</td>\n",
       "      <td>-1.190340e+10</td>\n",
       "    </tr>\n",
       "    <tr>\n",
       "      <th>3</th>\n",
       "      <td>0.3</td>\n",
       "      <td>9.340210e-41</td>\n",
       "      <td>3.410880e-30</td>\n",
       "      <td>3.810220e-30</td>\n",
       "      <td>3.735990e+12</td>\n",
       "      <td>1.302880e+12</td>\n",
       "      <td>5.187180e+12</td>\n",
       "      <td>3.707210e+12</td>\n",
       "      <td>1.734240e+16</td>\n",
       "      <td>1.193480e+13</td>\n",
       "    </tr>\n",
       "    <tr>\n",
       "      <th>4</th>\n",
       "      <td>0.4</td>\n",
       "      <td>5.839070e-34</td>\n",
       "      <td>4.088810e-24</td>\n",
       "      <td>4.454940e-24</td>\n",
       "      <td>8.451140e+12</td>\n",
       "      <td>2.826860e+12</td>\n",
       "      <td>1.153540e+13</td>\n",
       "      <td>8.421710e+12</td>\n",
       "      <td>3.889150e+16</td>\n",
       "      <td>4.310140e+13</td>\n",
       "    </tr>\n",
       "    <tr>\n",
       "      <th>...</th>\n",
       "      <td>...</td>\n",
       "      <td>...</td>\n",
       "      <td>...</td>\n",
       "      <td>...</td>\n",
       "      <td>...</td>\n",
       "      <td>...</td>\n",
       "      <td>...</td>\n",
       "      <td>...</td>\n",
       "      <td>...</td>\n",
       "      <td>...</td>\n",
       "    </tr>\n",
       "    <tr>\n",
       "      <th>1796</th>\n",
       "      <td>179.6</td>\n",
       "      <td>6.136800e+10</td>\n",
       "      <td>2.372720e+08</td>\n",
       "      <td>7.239950e+10</td>\n",
       "      <td>2.945110e+16</td>\n",
       "      <td>5.297010e+12</td>\n",
       "      <td>4.089320e+16</td>\n",
       "      <td>2.802940e+16</td>\n",
       "      <td>1.325420e+20</td>\n",
       "      <td>4.308590e+18</td>\n",
       "    </tr>\n",
       "    <tr>\n",
       "      <th>1797</th>\n",
       "      <td>179.7</td>\n",
       "      <td>6.138990e+10</td>\n",
       "      <td>2.392410e+08</td>\n",
       "      <td>7.226770e+10</td>\n",
       "      <td>2.945110e+16</td>\n",
       "      <td>5.269700e+12</td>\n",
       "      <td>4.089320e+16</td>\n",
       "      <td>2.802980e+16</td>\n",
       "      <td>1.325420e+20</td>\n",
       "      <td>4.308590e+18</td>\n",
       "    </tr>\n",
       "    <tr>\n",
       "      <th>1798</th>\n",
       "      <td>179.8</td>\n",
       "      <td>6.141600e+10</td>\n",
       "      <td>2.377100e+08</td>\n",
       "      <td>7.218140e+10</td>\n",
       "      <td>2.945100e+16</td>\n",
       "      <td>5.237890e+12</td>\n",
       "      <td>4.089320e+16</td>\n",
       "      <td>2.803040e+16</td>\n",
       "      <td>1.325420e+20</td>\n",
       "      <td>4.308590e+18</td>\n",
       "    </tr>\n",
       "    <tr>\n",
       "      <th>1799</th>\n",
       "      <td>179.9</td>\n",
       "      <td>6.144580e+10</td>\n",
       "      <td>2.323720e+08</td>\n",
       "      <td>7.214430e+10</td>\n",
       "      <td>2.945100e+16</td>\n",
       "      <td>5.202540e+12</td>\n",
       "      <td>4.089320e+16</td>\n",
       "      <td>2.803090e+16</td>\n",
       "      <td>1.325420e+20</td>\n",
       "      <td>4.308590e+18</td>\n",
       "    </tr>\n",
       "    <tr>\n",
       "      <th>1800</th>\n",
       "      <td>180.0</td>\n",
       "      <td>6.147870e+10</td>\n",
       "      <td>2.237740e+08</td>\n",
       "      <td>7.214830e+10</td>\n",
       "      <td>2.945100e+16</td>\n",
       "      <td>5.165410e+12</td>\n",
       "      <td>4.089320e+16</td>\n",
       "      <td>2.803160e+16</td>\n",
       "      <td>1.325420e+20</td>\n",
       "      <td>4.308590e+18</td>\n",
       "    </tr>\n",
       "  </tbody>\n",
       "</table>\n",
       "<p>1801 rows × 10 columns</p>\n",
       "</div>"
      ],
      "text/plain": [
       "       time  gravitational_energy  acoustic_energy  acoustic_kinetic_energy  \\\n",
       "0       0.0          0.000000e+00     0.000000e+00             0.000000e+00   \n",
       "1       0.1          9.024330e-69     1.413920e-54             1.484740e-54   \n",
       "2       0.2          1.527450e-49     3.849240e-38             4.239700e-38   \n",
       "3       0.3          9.340210e-41     3.410880e-30             3.810220e-30   \n",
       "4       0.4          5.839070e-34     4.088810e-24             4.454940e-24   \n",
       "...     ...                   ...              ...                      ...   \n",
       "1796  179.6          6.136800e+10     2.372720e+08             7.239950e+10   \n",
       "1797  179.7          6.138990e+10     2.392410e+08             7.226770e+10   \n",
       "1798  179.8          6.141600e+10     2.377100e+08             7.218140e+10   \n",
       "1799  179.9          6.144580e+10     2.323720e+08             7.214430e+10   \n",
       "1800  180.0          6.147870e+10     2.237740e+08             7.214830e+10   \n",
       "\n",
       "      elastic_energy  elastic_kinetic_energy  total_frictional_work  \\\n",
       "0       0.000000e+00            0.000000e+00           0.000000e+00   \n",
       "1       1.468380e+11            5.371540e+10           2.169030e+11   \n",
       "2       1.147000e+12            4.135810e+11           1.626720e+12   \n",
       "3       3.735990e+12            1.302880e+12           5.187180e+12   \n",
       "4       8.451140e+12            2.826860e+12           1.153540e+13   \n",
       "...              ...                     ...                    ...   \n",
       "1796    2.945110e+16            5.297010e+12           4.089320e+16   \n",
       "1797    2.945110e+16            5.269700e+12           4.089320e+16   \n",
       "1798    2.945100e+16            5.237890e+12           4.089320e+16   \n",
       "1799    2.945100e+16            5.202540e+12           4.089320e+16   \n",
       "1800    2.945100e+16            5.165410e+12           4.089320e+16   \n",
       "\n",
       "      static_frictional_work  seismic_moment  plastic_moment  \n",
       "0               0.000000e+00    0.000000e+00    0.000000e+00  \n",
       "1               1.409580e+11    7.390380e+14   -4.748890e+11  \n",
       "2               1.124390e+12    5.312520e+15   -1.190340e+10  \n",
       "3               3.707210e+12    1.734240e+16    1.193480e+13  \n",
       "4               8.421710e+12    3.889150e+16    4.310140e+13  \n",
       "...                      ...             ...             ...  \n",
       "1796            2.802940e+16    1.325420e+20    4.308590e+18  \n",
       "1797            2.802980e+16    1.325420e+20    4.308590e+18  \n",
       "1798            2.803040e+16    1.325420e+20    4.308590e+18  \n",
       "1799            2.803090e+16    1.325420e+20    4.308590e+18  \n",
       "1800            2.803160e+16    1.325420e+20    4.308590e+18  \n",
       "\n",
       "[1801 rows x 10 columns]"
      ]
     },
     "execution_count": 13,
     "metadata": {},
     "output_type": "execute_result"
    }
   ],
   "source": [
    "sW"
   ]
  },
  {
   "cell_type": "code",
   "execution_count": 30,
   "id": "c6bf7b1e",
   "metadata": {},
   "outputs": [
    {
     "data": {
      "image/png": "[encoded data removed]",
      "text/plain": [
       "<Figure size 1008x288 with 3 Axes>"
      ]
     },
     "metadata": {
      "needs_background": "light"
     },
     "output_type": "display_data"
    }
   ],
   "source": [
    "fig, (ax1, ax2, ax3) = plt.subplots(1, 3, sharex=True, sharey=True)\n",
    "fig.set_figwidth(14)\n",
    "#fig.suptitle('Energy in the water layer (= acoustic medium)', fontsize=14, y=1.02)\n",
    "ax1.set_xlim(sW['time'].iloc[0], sW['time'].iloc[-1],)\n",
    "ax1.plot(sW['time'],sW['acoustic_energy'], label='Acoustic energy (AE)')\n",
    "ax1.plot(sW['time'],sW['gravitational_energy'], label='Gravitational energy (GPE)', linestyle='--', color='green')\n",
    "#ax1.plot(sW['time'],sW['acoustic_kinetic_energy'], label='Acoustic kinetic energy')\n",
    "ax1.grid()\n",
    "ax1.set_xlabel('Time [s]', fontsize=12)\n",
    "ax1.set_ylabel('Energy [J]', fontsize=12)\n",
    "ax1.set_title('Scenario simple West', fontsize=14)\n",
    "ax1.legend()\n",
    "\n",
    "ax2.plot(sM['time'],sM['acoustic_energy'], label='Acoustic energy (AE)')\n",
    "ax2.plot(sM['time'],sM['gravitational_energy'], label='Gravitational energy (GPE)', linestyle='--', color='green')\n",
    "#ax2.plot(sM['time'],sM['acoustic_kinetic_energy'], label='Acoustic kinetic energy')\n",
    "ax2.grid()\n",
    "ax2.set_xlabel('Time [s]', fontsize=12)\n",
    "ax2.set_title('Scenario simple Middle', fontsize=14)\n",
    "ax2.legend()\n",
    "\n",
    "ax3.plot(sE['time'],sE['acoustic_energy'], label='Acoustic energy (AE)')\n",
    "ax3.plot(sE['time'],sE['gravitational_energy'], label='Gravitational energy (GPE)', linestyle='--', color='green')\n",
    "#ax3.plot(sE['time'],sE['acoustic_kinetic_energy'], label='Acoustic kinetic energy')\n",
    "ax3.grid()\n",
    "ax3.set_xlabel('Time [s]', fontsize=12)\n",
    "ax3.set_title('Scenario simple East', fontsize=14)\n",
    "ax3.legend()\n",
    "\n",
    "plt.savefig('output/Energy_waterlayer_AE_GPE.png', dpi=300)\n",
    "#plt.savefig('output/Energy_waterlayer_all.png', dpi=300)"
   ]
  },
  {
   "cell_type": "markdown",
   "id": "0e32bad9",
   "metadata": {},
   "source": [
    "## [Bolshakova and Nosov (2011)](https://link.springer.com/article/10.1007/s00024-013-0730-6)"
   ]
  },
  {
   "cell_type": "code",
   "execution_count": 48,
   "id": "ff038215",
   "metadata": {},
   "outputs": [],
   "source": [
    "def theoretical_energies(df):\n",
    "    M0 = df['seismic_moment'][len(df)-1]\n",
    "    Mw = 2/3 * (np.log10(M0) - 9.1)\n",
    "    E_TS_theoretical_max = 10 ** (2.0 * Mw - 1.7)\n",
    "    E_EQ = 10 ** (1.5 * Mw + 4.5)\n",
    "    print(\"E_TS_theoretical_max = {:.2} and E_EQ = {:.2}.\".format(E_TS_theoretical_max, E_EQ))\n",
    "    # potential energy of initial elevation (tsunami energy) as a function of earthquake moment magnitude\n",
    "    E_TS = 10 ** (2.33 * Mw - 5.59)\n",
    "    print(\"E_TS = {:.2}\".format(E_TS))\n",
    "    print(\"--------------------------------\")"
   ]
  },
  {
   "cell_type": "code",
   "execution_count": 49,
   "id": "5f37ca5f",
   "metadata": {},
   "outputs": [
    {
     "name": "stdout",
     "output_type": "stream",
     "text": [
      "E_TS_theoretical_max = 9.9e+12 and E_EQ = 3.3e+15.\n",
      "E_TS = 3.4e+11\n",
      "--------------------------------\n",
      "E_TS_theoretical_max = 9.6e+12 and E_EQ = 3.2e+15.\n",
      "E_TS = 3.3e+11\n",
      "--------------------------------\n",
      "E_TS_theoretical_max = 9.9e+12 and E_EQ = 3.3e+15.\n",
      "E_TS = 3.4e+11\n",
      "--------------------------------\n"
     ]
    }
   ],
   "source": [
    "theoretical_energies(sW)\n",
    "theoretical_energies(sM)\n",
    "theoretical_energies(sE)"
   ]
  },
  {
   "cell_type": "code",
   "execution_count": 50,
   "id": "5348cd97",
   "metadata": {},
   "outputs": [],
   "source": [
    "def tsunami_pot_energy(df):\n",
    "    # max Gravitational energy (energy output)\n",
    "    GPE = df['gravitational_energy']\n",
    "    GPE_TS_max = max(GPE)\n",
    "    print(\"GPE_TS_max = {:.2}\".format(GPE_TS_max))"
   ]
  },
  {
   "cell_type": "code",
   "execution_count": 51,
   "id": "322c4ef3",
   "metadata": {},
   "outputs": [
    {
     "name": "stdout",
     "output_type": "stream",
     "text": [
      "GPE_TS_max = 2.3e+11\n",
      "GPE_TS_max = 2.6e+11\n",
      "GPE_TS_max = 3.3e+11\n"
     ]
    }
   ],
   "source": [
    "tsunami_pot_energy(sW)\n",
    "tsunami_pot_energy(sM)\n",
    "tsunami_pot_energy(sE)"
   ]
  },
  {
   "cell_type": "markdown",
   "id": "b443e6ed",
   "metadata": {},
   "source": [
    "### Plot with tsunami potential energy"
   ]
  },
  {
   "cell_type": "code",
   "execution_count": 59,
   "id": "7b1e6ed7",
   "metadata": {},
   "outputs": [
    {
     "data": {
      "image/png": "[encoded data removed]",
      "text/plain": [
       "<Figure size 1008x288 with 3 Axes>"
      ]
     },
     "metadata": {
      "needs_background": "light"
     },
     "output_type": "display_data"
    }
   ],
   "source": [
    "fig, (ax1, ax2, ax3) = plt.subplots(1, 3, sharex=True, sharey=True)\n",
    "fig.set_figwidth(14)\n",
    "#fig.suptitle('Energy in the water layer (= acoustic medium)', fontsize=14, y=1.02)\n",
    "ax1.set_xlim(sW['time'].iloc[0], sW['time'].iloc[-1],)\n",
    "ax1.plot(sW['time'],sW['acoustic_energy'], label='Acoustic energy (AE)')\n",
    "ax1.plot(sW['time'],sW['gravitational_energy'], label='Gravitational energy (GPE)', linestyle='--', color='green')\n",
    "#ax1.plot(sW['time'],sW['acoustic_kinetic_energy'], label='Acoustic kinetic energy')\n",
    "ax1.grid()\n",
    "ax1.set_xlabel('Time [s]', fontsize=12)\n",
    "ax1.set_ylabel('Energy [J]', fontsize=12)\n",
    "ax1.set_title('Scenario simple West', fontsize=14)\n",
    "ax1.text(x=max(sE['time'])/3, y=max(sE['acoustic_energy'])/2, \n",
    "         s=\"Tsunami Potential Energy \\n= {:.2e} Joule.\".format(max(sW['gravitational_energy'])), rotation=0)\n",
    "ax1.legend()\n",
    "\n",
    "ax2.plot(sM['time'],sM['acoustic_energy'], label='Acoustic energy (AE)')\n",
    "ax2.plot(sM['time'],sM['gravitational_energy'], label='Gravitational energy (GPE)', linestyle='--', color='green')\n",
    "#ax2.plot(sM['time'],sM['acoustic_kinetic_energy'], label='Acoustic kinetic energy')\n",
    "ax2.grid()\n",
    "ax2.set_xlabel('Time [s]', fontsize=12)\n",
    "ax2.set_title('Scenario simple Middle', fontsize=14)\n",
    "ax2.text(x=max(sE['time'])/3, y=max(sE['acoustic_energy'])/2, \n",
    "         s=\"Tsunami Potential Energy \\n= {:.2e} Joule.\".format(max(sM['gravitational_energy'])), rotation=0)\n",
    "ax2.legend()\n",
    "\n",
    "ax3.plot(sE['time'],sE['acoustic_energy'], label='Acoustic energy (AE)')\n",
    "ax3.plot(sE['time'],sE['gravitational_energy'], label='Gravitational energy (GPE)', linestyle='--', color='green')\n",
    "#ax3.plot(sE['time'],sE['acoustic_kinetic_energy'], label='Acoustic kinetic energy')\n",
    "ax3.grid()\n",
    "ax3.set_xlabel('Time [s]', fontsize=12)\n",
    "ax3.set_title('Scenario simple East', fontsize=14)\n",
    "ax3.text(x=max(sE['time'])/3, y=max(sE['acoustic_energy'])/2, \n",
    "         s=\"Tsunami Potential Energy \\n= {:.2e} Joule.\".format(max(sE['gravitational_energy'])), rotation=0)\n",
    "ax3.legend()\n",
    "\n",
    "plt.savefig('output/Energy_waterlayer_tsunami-pot-energy.png', dpi=300)"
   ]
  }
 ],
 "metadata": {
  "kernelspec": {
   "display_name": "Python 3 (ipykernel)",
   "language": "python",
   "name": "python3"
  },
  "language_info": {
   "codemirror_mode": {
    "name": "ipython",
    "version": 3
   },
   "file_extension": ".py",
   "mimetype": "text/x-python",
   "name": "python",
   "nbconvert_exporter": "python",
   "pygments_lexer": "ipython3",
   "version": "3.9.7"
  }
 },
 "nbformat": 4,
 "nbformat_minor": 5
}
