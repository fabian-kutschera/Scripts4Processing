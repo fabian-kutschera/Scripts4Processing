{
 "cells": [
  {
   "cell_type": "code",
   "execution_count": 1,
   "id": "8471d212",
   "metadata": {},
   "outputs": [],
   "source": [
    "from pyproj import Transformer"
   ]
  },
  {
   "cell_type": "markdown",
   "id": "dde57efc",
   "metadata": {},
   "source": [
    "#### Hypocentres"
   ]
  },
  {
   "cell_type": "code",
   "execution_count": 2,
   "id": "1e5e0a30",
   "metadata": {},
   "outputs": [],
   "source": [
    "#transformer = Transformer.from_crs(\"epsg:32627\", \"epsg:4326\", always_xy=True)\n",
    "transformer = Transformer.from_crs(\"utm27\", \"epsg:4326\", always_xy=True)"
   ]
  },
  {
   "cell_type": "markdown",
   "id": "5108d3eb",
   "metadata": {},
   "source": [
    "|                \t| x           \t| y            \t| z     \t|\n",
    "|----------------\t|-------------\t|--------------\t|-------\t|\n",
    "| Simple East    \t| 670950.2    \t| 7327297.5    \t| -7000 \t|\n",
    "| Simple Middle  \t| 639613.9    \t| 7340258.5    \t| -7000 \t|\n",
    "| Simple West    \t| 606405.1    \t| 7357136.2    \t| -7000 \t|\n",
    "| Complex East   \t| 663105.107  \t| 7331567.26   \t| -7000 \t|\n",
    "| Complex Middle \t| 642704.0    \t| 7339196.2    \t| -7000 \t|\n",
    "| Complex West   \t| 607077.3925 \t| 7349647.4498 \t| -7000 \t|"
   ]
  },
  {
   "cell_type": "code",
   "execution_count": 11,
   "id": "f4455072",
   "metadata": {},
   "outputs": [],
   "source": [
    "x = [670950.2, 639613.9, 606405.1, 663105.107, 642704.0, 607077.3925]\n",
    "y = [7327297.5, 7340258.5, 7357136.2, 7331567.26, 7339196.2, 7349647.4498]"
   ]
  },
  {
   "cell_type": "code",
   "execution_count": 12,
   "id": "9cf88e34",
   "metadata": {},
   "outputs": [],
   "source": [
    "# project back to geocentric coordinates\n",
    "lon, lat = transformer.transform(x, y)"
   ]
  },
  {
   "cell_type": "code",
   "execution_count": 13,
   "id": "de25c0cd",
   "metadata": {},
   "outputs": [
    {
     "name": "stdout",
     "output_type": "stream",
     "text": [
      "[-17.228592182059785, -17.904368452344116, -18.625532543980157, -17.395811868445602, -17.837175366287514, -18.616907927623227]\n"
     ]
    }
   ],
   "source": [
    "print(lon)"
   ]
  },
  {
   "cell_type": "code",
   "execution_count": 14,
   "id": "0ce69531",
   "metadata": {},
   "outputs": [
    {
     "name": "stdout",
     "output_type": "stream",
     "text": [
      "[66.01825068509896, 66.14971339178402, 66.31396741623851, 66.06061423001546, 66.13881332034997, 66.24661319458696]\n"
     ]
    }
   ],
   "source": [
    "print(lat)"
   ]
  },
  {
   "cell_type": "markdown",
   "id": "29a5bdaf",
   "metadata": {},
   "source": [
    "|                \t| lon      \t| lat     \t|\n",
    "|----------------\t|----------\t|---------\t|\n",
    "| Simple East    \t| -17.2286 \t| 66.0201 \t|\n",
    "| Simple Middle  \t| -17.9044 \t| 66.1515 \t|\n",
    "| Simple West    \t| -18.6257 \t| 66.3158 \t|\n",
    "| Complex East   \t| -17.3958 \t| 66.0625 \t|\n",
    "| Complex Middle \t| -17.8373 \t| 66.1406 \t|\n",
    "| Complex West   \t| -18.6170 \t| 66.2485 \t|"
   ]
  },
  {
   "cell_type": "markdown",
   "id": "91cc26de",
   "metadata": {},
   "source": [
    "#### Modal domain"
   ]
  },
  {
   "cell_type": "code",
   "execution_count": 15,
   "id": "f31224ec",
   "metadata": {},
   "outputs": [],
   "source": [
    "x_dom = [525000, 730000]\n",
    "y_dom = [7.248e+06, 7.43e+06]"
   ]
  },
  {
   "cell_type": "code",
   "execution_count": 16,
   "id": "70446728",
   "metadata": {},
   "outputs": [
    {
     "name": "stdout",
     "output_type": "stream",
     "text": [
      "[-20.462392387118324, -15.741480005402638] [65.35199350163427, 66.89855672600817]\n"
     ]
    }
   ],
   "source": [
    "lon_dom, lat_dom = transformer.transform(x_dom, y_dom)\n",
    "print(lon_dom, lat_dom)"
   ]
  },
  {
   "cell_type": "markdown",
   "id": "25df8811",
   "metadata": {},
   "source": [
    "## POI \n",
    "\n",
    "x \ty \ttime \th \tb \twaterlevel \tssha\n",
    "\n",
    "    Sig\n",
    "**596010 \t7342010 \t0.0 \t22.827670 \t-22.827670 \t0.000000 \t0.000000**  \n",
    "\n",
    "    Olaf  \n",
    "**608100 \t7332300 \t0.0 \t16.483257 \t-16.483257 \t0.000000 \t0.000000**     \n",
    "\n",
    "    Dalvik  \n",
    "**613300 \t7318400 \t0.0 \t5.180788 \t-5.180788 \t0.000000 \t0.000000**  \n",
    "\n",
    "    Akureyri  \n",
    "**632000 \t7292100 \t0.0 \t37.141219 \t-37.141219 \t0.000000 \t0.000000**   \n",
    "\n",
    "    Grimsey \n",
    "**633500 \t7381000 \t0.0 \t10.304572 \t-10.304572 \t0.000000 \t0.000000**  \n",
    "\n",
    "    Husavik  \n",
    "**664500 \t7329200 \t0.0 \t7.298772 \t-7.298772 \t0.000000 \t0.000000**  "
   ]
  },
  {
   "cell_type": "code",
   "execution_count": 17,
   "id": "50123ecb",
   "metadata": {},
   "outputs": [
    {
     "name": "stdout",
     "output_type": "stream",
     "text": [
      "[-18.86874200400823, -18.60890580976148, -18.506254240201283, -18.121833089188257, -17.99634741706946, -17.368093913939497] [66.1817270388725, 66.0907693517237, 65.96436250066692, 65.72149180883459, 66.51736523783475, 66.03869709441048]\n"
     ]
    }
   ],
   "source": [
    "x_POI = [596010, 608100, 613300, 632000, 633500, 664500]\n",
    "y_POI = [7342010, 7332300, 7318400,  7292100, 7381000, 7329200]\n",
    "\n",
    "lon_POI, lat_POI = transformer.transform(x_POI, y_POI)\n",
    "print(lon_POI, lat_POI)"
   ]
  },
  {
   "cell_type": "code",
   "execution_count": 18,
   "id": "e301c0b1",
   "metadata": {},
   "outputs": [
    {
     "name": "stdout",
     "output_type": "stream",
     "text": [
      "[-18.868954963838295, -18.60909621777071, -18.506435260672824, -18.121980855704454, -17.99648792380457, -17.368179678603134] [66.18361293164726, 66.09265463740168, 65.96624664147667, 65.72337387403358, 66.51925524380808, 66.04058266307385]\n"
     ]
    }
   ],
   "source": [
    "transformer = Transformer.from_crs(\"epsg:32627\", \"epsg:4326\", always_xy=True)\n",
    "lon_POI, lat_POI = transformer.transform(x_POI, y_POI)\n",
    "print(lon_POI, lat_POI)"
   ]
  },
  {
   "cell_type": "markdown",
   "id": "57b3697d",
   "metadata": {},
   "source": [
    "#### Box around the fault based on Lat Long"
   ]
  },
  {
   "cell_type": "code",
   "execution_count": 8,
   "id": "6fbca620",
   "metadata": {},
   "outputs": [],
   "source": [
    "# fault - change transformer\n",
    "transformer = Transformer.from_crs(\"epsg:4326\", \"utm27\", always_xy=True)\n",
    "x_f = [-18.9, -16.9]\n",
    "y_f=[65.9, 66.35]\n",
    "x_f1, y_f1 = transformer.transform(x_f, y_f)"
   ]
  },
  {
   "cell_type": "code",
   "execution_count": 9,
   "id": "70d44418",
   "metadata": {},
   "outputs": [
    {
     "name": "stdout",
     "output_type": "stream",
     "text": [
      "[595653.8326967588, 683408.9984408879] [7310573.975060897, 7365147.965061599]\n"
     ]
    }
   ],
   "source": [
    "print(x_f1, y_f1)"
   ]
  },
  {
   "cell_type": "markdown",
   "id": "5854277d",
   "metadata": {},
   "source": [
    "#### Reproject coordinates of HFFZ simple fault geometry connected"
   ]
  },
  {
   "cell_type": "code",
   "execution_count": 3,
   "id": "f109dad9",
   "metadata": {},
   "outputs": [],
   "source": [
    "import pandas as pd"
   ]
  },
  {
   "cell_type": "code",
   "execution_count": 23,
   "id": "401768f7",
   "metadata": {},
   "outputs": [
    {
     "data": {
      "text/html": [
       "<div>\n",
       "<style scoped>\n",
       "    .dataframe tbody tr th:only-of-type {\n",
       "        vertical-align: middle;\n",
       "    }\n",
       "\n",
       "    .dataframe tbody tr th {\n",
       "        vertical-align: top;\n",
       "    }\n",
       "\n",
       "    .dataframe thead th {\n",
       "        text-align: right;\n",
       "    }\n",
       "</style>\n",
       "<table border=\"1\" class=\"dataframe\">\n",
       "  <thead>\n",
       "    <tr style=\"text-align: right;\">\n",
       "      <th></th>\n",
       "      <th>x</th>\n",
       "      <th>y</th>\n",
       "      <th>z</th>\n",
       "    </tr>\n",
       "  </thead>\n",
       "  <tbody>\n",
       "    <tr>\n",
       "      <th>0</th>\n",
       "      <td>603915.1970</td>\n",
       "      <td>7.358621e+06</td>\n",
       "      <td>0.0</td>\n",
       "    </tr>\n",
       "    <tr>\n",
       "      <th>1</th>\n",
       "      <td>604106.7255</td>\n",
       "      <td>7.358505e+06</td>\n",
       "      <td>0.0</td>\n",
       "    </tr>\n",
       "    <tr>\n",
       "      <th>2</th>\n",
       "      <td>604298.2540</td>\n",
       "      <td>7.358390e+06</td>\n",
       "      <td>0.0</td>\n",
       "    </tr>\n",
       "    <tr>\n",
       "      <th>3</th>\n",
       "      <td>604489.7825</td>\n",
       "      <td>7.358277e+06</td>\n",
       "      <td>0.0</td>\n",
       "    </tr>\n",
       "    <tr>\n",
       "      <th>4</th>\n",
       "      <td>604681.3111</td>\n",
       "      <td>7.358164e+06</td>\n",
       "      <td>0.0</td>\n",
       "    </tr>\n",
       "  </tbody>\n",
       "</table>\n",
       "</div>"
      ],
      "text/plain": [
       "             x             y    z\n",
       "0  603915.1970  7.358621e+06  0.0\n",
       "1  604106.7255  7.358505e+06  0.0\n",
       "2  604298.2540  7.358390e+06  0.0\n",
       "3  604489.7825  7.358277e+06  0.0\n",
       "4  604681.3111  7.358164e+06  0.0"
      ]
     },
     "execution_count": 23,
     "metadata": {},
     "output_type": "execute_result"
    }
   ],
   "source": [
    "df = pd.read_csv('/import/freenas-m-05-seissol/kutschera/HIWI/Scripts/Github/GMT/Iceland/input/HFF_fault_traces_simple_connected/fault_1.dat',\n",
    "                names=['x','y','z'], sep='\\s+')\n",
    "df.head()"
   ]
  },
  {
   "cell_type": "code",
   "execution_count": 24,
   "id": "4a37e500",
   "metadata": {},
   "outputs": [
    {
     "data": {
      "text/plain": [
       "x    float64\n",
       "y    float64\n",
       "z    float64\n",
       "dtype: object"
      ]
     },
     "execution_count": 24,
     "metadata": {},
     "output_type": "execute_result"
    }
   ],
   "source": [
    "df.dtypes"
   ]
  },
  {
   "cell_type": "code",
   "execution_count": 26,
   "id": "af2d5869",
   "metadata": {},
   "outputs": [],
   "source": [
    "transformer = Transformer.from_crs(\"utm27\", \"epsg:4326\", always_xy=True)\n",
    "# project back to geocentric coordinates\n",
    "lon, lat = transformer.transform(df.x, df.y)"
   ]
  },
  {
   "cell_type": "code",
   "execution_count": 27,
   "id": "d9276416",
   "metadata": {},
   "outputs": [
    {
     "data": {
      "text/html": [
       "<div>\n",
       "<style scoped>\n",
       "    .dataframe tbody tr th:only-of-type {\n",
       "        vertical-align: middle;\n",
       "    }\n",
       "\n",
       "    .dataframe tbody tr th {\n",
       "        vertical-align: top;\n",
       "    }\n",
       "\n",
       "    .dataframe thead th {\n",
       "        text-align: right;\n",
       "    }\n",
       "</style>\n",
       "<table border=\"1\" class=\"dataframe\">\n",
       "  <thead>\n",
       "    <tr style=\"text-align: right;\">\n",
       "      <th></th>\n",
       "      <th>Lon</th>\n",
       "      <th>Lat</th>\n",
       "    </tr>\n",
       "  </thead>\n",
       "  <tbody>\n",
       "    <tr>\n",
       "      <th>0</th>\n",
       "      <td>-18.679802</td>\n",
       "      <td>66.328112</td>\n",
       "    </tr>\n",
       "    <tr>\n",
       "      <th>1</th>\n",
       "      <td>-18.675627</td>\n",
       "      <td>66.327011</td>\n",
       "    </tr>\n",
       "    <tr>\n",
       "      <th>2</th>\n",
       "      <td>-18.671451</td>\n",
       "      <td>66.325921</td>\n",
       "    </tr>\n",
       "    <tr>\n",
       "      <th>3</th>\n",
       "      <td>-18.667274</td>\n",
       "      <td>66.324838</td>\n",
       "    </tr>\n",
       "    <tr>\n",
       "      <th>4</th>\n",
       "      <td>-18.663097</td>\n",
       "      <td>66.323762</td>\n",
       "    </tr>\n",
       "  </tbody>\n",
       "</table>\n",
       "</div>"
      ],
      "text/plain": [
       "         Lon        Lat\n",
       "0 -18.679802  66.328112\n",
       "1 -18.675627  66.327011\n",
       "2 -18.671451  66.325921\n",
       "3 -18.667274  66.324838\n",
       "4 -18.663097  66.323762"
      ]
     },
     "execution_count": 27,
     "metadata": {},
     "output_type": "execute_result"
    }
   ],
   "source": [
    "lon = pd.Series(lon)\n",
    "lat = pd.Series(lat)\n",
    "  \n",
    "frame = { 'Lon': lon, 'Lat': lat }\n",
    "  \n",
    "coord = pd.DataFrame(frame)\n",
    "coord.head()"
   ]
  },
  {
   "cell_type": "code",
   "execution_count": 29,
   "id": "4ea5630b",
   "metadata": {},
   "outputs": [],
   "source": [
    "coord.to_csv(\"/import/freenas-m-05-seissol/kutschera/HIWI/Scripts/Github/GMT/Iceland/input/HFF_fault_traces_simple_connected/fault_1_lon_lat.dat\", \n",
    "             index=False, header=False, sep=' ')"
   ]
  },
  {
   "cell_type": "code",
   "execution_count": null,
   "id": "9dfe5629",
   "metadata": {},
   "outputs": [],
   "source": []
  }
 ],
 "metadata": {
  "kernelspec": {
   "display_name": "Python 3 (ipykernel)",
   "language": "python",
   "name": "python3"
  },
  "language_info": {
   "codemirror_mode": {
    "name": "ipython",
    "version": 3
   },
   "file_extension": ".py",
   "mimetype": "text/x-python",
   "name": "python",
   "nbconvert_exporter": "python",
   "pygments_lexer": "ipython3",
   "version": "3.9.7"
  }
 },
 "nbformat": 4,
 "nbformat_minor": 5
}
