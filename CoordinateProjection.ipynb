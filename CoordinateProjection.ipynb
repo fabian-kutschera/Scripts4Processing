{
 "cells": [
  {
   "cell_type": "code",
   "execution_count": 3,
   "id": "8471d212",
   "metadata": {},
   "outputs": [],
   "source": [
    "from pyproj import Transformer"
   ]
  },
  {
   "cell_type": "markdown",
   "id": "dde57efc",
   "metadata": {},
   "source": [
    "#### Hypocentres"
   ]
  },
  {
   "cell_type": "code",
   "execution_count": 4,
   "id": "1e5e0a30",
   "metadata": {},
   "outputs": [],
   "source": [
    "transformer = Transformer.from_crs(\"epsg:32627\", \"epsg:4326\", always_xy=True)\n",
    "#transformer = Transformer.from_crs(\"utm27\", \"epsg:4326\", always_xy=True)"
   ]
  },
  {
   "cell_type": "markdown",
   "id": "5108d3eb",
   "metadata": {},
   "source": [
    "|                \t| x           \t| y            \t| z     \t|\n",
    "|----------------\t|-------------\t|--------------\t|-------\t|\n",
    "| Simple East    \t| 670950.2    \t| 7327297.5    \t| -7000 \t|\n",
    "| Simple Middle  \t| 639613.9    \t| 7340258.5    \t| -7000 \t|\n",
    "| Simple West    \t| 606405.1    \t| 7357136.2    \t| -7000 \t|\n",
    "| Complex East   \t| 663105.107  \t| 7331567.26   \t| -7000 \t|\n",
    "| Complex Middle \t| 642704.0    \t| 7339196.2    \t| -7000 \t|\n",
    "| Complex West   \t| 607077.3925 \t| 7349647.4498 \t| -7000 \t|"
   ]
  },
  {
   "cell_type": "code",
   "execution_count": 5,
   "id": "f4455072",
   "metadata": {},
   "outputs": [],
   "source": [
    "x = [670950.2, 639613.9, 606405.1, 663105.107, 642704.0, 607077.3925]\n",
    "y = [7327297.5, 7340258.5, 7357136.2, 7331567.26, 7339196.2, 7349647.4498]"
   ]
  },
  {
   "cell_type": "code",
   "execution_count": 6,
   "id": "9cf88e34",
   "metadata": {},
   "outputs": [],
   "source": [
    "# project back to geocentric coordinates\n",
    "lon, lat = transformer.transform(x, y)"
   ]
  },
  {
   "cell_type": "code",
   "execution_count": 7,
   "id": "de25c0cd",
   "metadata": {},
   "outputs": [
    {
     "name": "stdout",
     "output_type": "stream",
     "text": [
      "[-17.22866619559341, -17.904499706910716, -18.62572578181979, -17.395899999654276, -17.837300906465217, -18.617099999404182]\n"
     ]
    }
   ],
   "source": [
    "print(lon)"
   ]
  },
  {
   "cell_type": "code",
   "execution_count": 8,
   "id": "0ce69531",
   "metadata": {},
   "outputs": [
    {
     "name": "stdout",
     "output_type": "stream",
     "text": [
      "[66.02013608073102, 66.15159983086038, 66.3158548848616, 66.06250000797478, 66.14069969008978, 66.24850000855942]\n"
     ]
    }
   ],
   "source": [
    "print(lat)"
   ]
  },
  {
   "cell_type": "markdown",
   "id": "29a5bdaf",
   "metadata": {},
   "source": [
    "|                \t| lon      \t| lat     \t|\n",
    "|----------------\t|----------\t|---------\t|\n",
    "| Simple East    \t| -17.2286 \t| 66.0201 \t|\n",
    "| Simple Middle  \t| -17.9044 \t| 66.1515 \t|\n",
    "| Simple West    \t| -18.6257 \t| 66.3158 \t|\n",
    "| Complex East   \t| -17.3958 \t| 66.0625 \t|\n",
    "| Complex Middle \t| -17.8373 \t| 66.1406 \t|\n",
    "| Complex West   \t| -18.6170 \t| 66.2485 \t|"
   ]
  },
  {
   "cell_type": "markdown",
   "id": "91cc26de",
   "metadata": {},
   "source": [
    "#### Modal domain"
   ]
  },
  {
   "cell_type": "code",
   "execution_count": 9,
   "id": "f31224ec",
   "metadata": {},
   "outputs": [],
   "source": [
    "x_dom = [525000, 730000]\n",
    "y_dom = [7.248e+06, 7.43e+06]"
   ]
  },
  {
   "cell_type": "code",
   "execution_count": 11,
   "id": "70446728",
   "metadata": {},
   "outputs": [
    {
     "name": "stdout",
     "output_type": "stream",
     "text": [
      "[-20.462729265464844, -15.741424836251399] [65.35386850808597, 66.90045035328437]\n"
     ]
    }
   ],
   "source": [
    "lon_dom, lat_dom = transformer.transform(x_dom, y_dom)\n",
    "print(lon_dom, lat_dom)"
   ]
  }
 ],
 "metadata": {
  "kernelspec": {
   "display_name": "Python 3 (ipykernel)",
   "language": "python",
   "name": "python3"
  },
  "language_info": {
   "codemirror_mode": {
    "name": "ipython",
    "version": 3
   },
   "file_extension": ".py",
   "mimetype": "text/x-python",
   "name": "python",
   "nbconvert_exporter": "python",
   "pygments_lexer": "ipython3",
   "version": "3.9.7"
  }
 },
 "nbformat": 4,
 "nbformat_minor": 5
}
