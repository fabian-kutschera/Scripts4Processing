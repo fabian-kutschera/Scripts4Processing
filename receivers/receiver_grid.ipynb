{
 "cells": [
  {
   "cell_type": "markdown",
   "id": "4509694f",
   "metadata": {},
   "source": [
    "# Create receiver grid"
   ]
  },
  {
   "cell_type": "code",
   "execution_count": 1,
   "id": "5f4a52e3",
   "metadata": {},
   "outputs": [],
   "source": [
    "import pandas as pd\n",
    "import numpy as np"
   ]
  },
  {
   "cell_type": "code",
   "execution_count": 2,
   "id": "035d6e6f",
   "metadata": {},
   "outputs": [],
   "source": [
    "xmin = 597000\n",
    "xmax= 683000\n",
    "ymin = 7313000  \n",
    "ymax = 7365000\n",
    "num = 101"
   ]
  },
  {
   "cell_type": "code",
   "execution_count": 3,
   "id": "9c7264e1",
   "metadata": {},
   "outputs": [
    {
     "data": {
      "text/plain": [
       "86000"
      ]
     },
     "execution_count": 3,
     "metadata": {},
     "output_type": "execute_result"
    }
   ],
   "source": [
    "x_diff = xmax - xmin\n",
    "x_diff"
   ]
  },
  {
   "cell_type": "code",
   "execution_count": 4,
   "id": "ce2513bd",
   "metadata": {},
   "outputs": [
    {
     "data": {
      "text/plain": [
       "52000"
      ]
     },
     "execution_count": 4,
     "metadata": {},
     "output_type": "execute_result"
    }
   ],
   "source": [
    "y_diff = ymax - ymin\n",
    "y_diff"
   ]
  },
  {
   "cell_type": "code",
   "execution_count": 5,
   "id": "5d37a2b2",
   "metadata": {},
   "outputs": [
    {
     "data": {
      "text/plain": [
       "860"
      ]
     },
     "execution_count": 5,
     "metadata": {},
     "output_type": "execute_result"
    }
   ],
   "source": [
    "int(x_diff/100)"
   ]
  },
  {
   "cell_type": "code",
   "execution_count": 6,
   "id": "7ff7579c",
   "metadata": {},
   "outputs": [],
   "source": [
    "x_array = np.linspace(xmin, xmax, num=int(x_diff/1000)+1)"
   ]
  },
  {
   "cell_type": "code",
   "execution_count": 7,
   "id": "aee5bfb9",
   "metadata": {},
   "outputs": [],
   "source": [
    "y_array = np.linspace(ymin, ymax, num=int(y_diff/1000)+1)"
   ]
  },
  {
   "cell_type": "code",
   "execution_count": 8,
   "id": "2dd8f769",
   "metadata": {},
   "outputs": [],
   "source": [
    "mesh = np.meshgrid(x_array, y_array)"
   ]
  },
  {
   "cell_type": "code",
   "execution_count": 9,
   "id": "eb4577ae",
   "metadata": {},
   "outputs": [],
   "source": [
    "x_coords, y_coords = np.meshgrid(x_array, y_array)"
   ]
  },
  {
   "cell_type": "code",
   "execution_count": 10,
   "id": "1cb2102a",
   "metadata": {},
   "outputs": [
    {
     "data": {
      "text/plain": [
       "array([[597000., 598000., 599000., ..., 681000., 682000., 683000.],\n",
       "       [597000., 598000., 599000., ..., 681000., 682000., 683000.],\n",
       "       [597000., 598000., 599000., ..., 681000., 682000., 683000.],\n",
       "       ...,\n",
       "       [597000., 598000., 599000., ..., 681000., 682000., 683000.],\n",
       "       [597000., 598000., 599000., ..., 681000., 682000., 683000.],\n",
       "       [597000., 598000., 599000., ..., 681000., 682000., 683000.]])"
      ]
     },
     "execution_count": 10,
     "metadata": {},
     "output_type": "execute_result"
    }
   ],
   "source": [
    "x_coords"
   ]
  },
  {
   "cell_type": "code",
   "execution_count": 11,
   "id": "d6d9dc39",
   "metadata": {},
   "outputs": [
    {
     "data": {
      "text/plain": [
       "array([[7313000., 7313000., 7313000., ..., 7313000., 7313000., 7313000.],\n",
       "       [7314000., 7314000., 7314000., ..., 7314000., 7314000., 7314000.],\n",
       "       [7315000., 7315000., 7315000., ..., 7315000., 7315000., 7315000.],\n",
       "       ...,\n",
       "       [7363000., 7363000., 7363000., ..., 7363000., 7363000., 7363000.],\n",
       "       [7364000., 7364000., 7364000., ..., 7364000., 7364000., 7364000.],\n",
       "       [7365000., 7365000., 7365000., ..., 7365000., 7365000., 7365000.]])"
      ]
     },
     "execution_count": 11,
     "metadata": {},
     "output_type": "execute_result"
    }
   ],
   "source": [
    "y_coords"
   ]
  },
  {
   "cell_type": "code",
   "execution_count": 12,
   "id": "265b70cb",
   "metadata": {},
   "outputs": [],
   "source": [
    "x =  pd.Series(x_coords.reshape(-1))\n",
    "y =  pd.Series(y_coords.reshape(-1))"
   ]
  },
  {
   "cell_type": "code",
   "execution_count": 13,
   "id": "29c511a1",
   "metadata": {},
   "outputs": [],
   "source": [
    "df = pd.concat([x,y],axis=1)"
   ]
  },
  {
   "cell_type": "code",
   "execution_count": 14,
   "id": "cc10c512",
   "metadata": {},
   "outputs": [
    {
     "data": {
      "text/html": [
       "<div>\n",
       "<style scoped>\n",
       "    .dataframe tbody tr th:only-of-type {\n",
       "        vertical-align: middle;\n",
       "    }\n",
       "\n",
       "    .dataframe tbody tr th {\n",
       "        vertical-align: top;\n",
       "    }\n",
       "\n",
       "    .dataframe thead th {\n",
       "        text-align: right;\n",
       "    }\n",
       "</style>\n",
       "<table border=\"1\" class=\"dataframe\">\n",
       "  <thead>\n",
       "    <tr style=\"text-align: right;\">\n",
       "      <th></th>\n",
       "      <th>0</th>\n",
       "      <th>1</th>\n",
       "    </tr>\n",
       "  </thead>\n",
       "  <tbody>\n",
       "    <tr>\n",
       "      <th>0</th>\n",
       "      <td>597000.0</td>\n",
       "      <td>7313000.0</td>\n",
       "    </tr>\n",
       "    <tr>\n",
       "      <th>1</th>\n",
       "      <td>598000.0</td>\n",
       "      <td>7313000.0</td>\n",
       "    </tr>\n",
       "    <tr>\n",
       "      <th>2</th>\n",
       "      <td>599000.0</td>\n",
       "      <td>7313000.0</td>\n",
       "    </tr>\n",
       "    <tr>\n",
       "      <th>3</th>\n",
       "      <td>600000.0</td>\n",
       "      <td>7313000.0</td>\n",
       "    </tr>\n",
       "    <tr>\n",
       "      <th>4</th>\n",
       "      <td>601000.0</td>\n",
       "      <td>7313000.0</td>\n",
       "    </tr>\n",
       "    <tr>\n",
       "      <th>...</th>\n",
       "      <td>...</td>\n",
       "      <td>...</td>\n",
       "    </tr>\n",
       "    <tr>\n",
       "      <th>4606</th>\n",
       "      <td>679000.0</td>\n",
       "      <td>7365000.0</td>\n",
       "    </tr>\n",
       "    <tr>\n",
       "      <th>4607</th>\n",
       "      <td>680000.0</td>\n",
       "      <td>7365000.0</td>\n",
       "    </tr>\n",
       "    <tr>\n",
       "      <th>4608</th>\n",
       "      <td>681000.0</td>\n",
       "      <td>7365000.0</td>\n",
       "    </tr>\n",
       "    <tr>\n",
       "      <th>4609</th>\n",
       "      <td>682000.0</td>\n",
       "      <td>7365000.0</td>\n",
       "    </tr>\n",
       "    <tr>\n",
       "      <th>4610</th>\n",
       "      <td>683000.0</td>\n",
       "      <td>7365000.0</td>\n",
       "    </tr>\n",
       "  </tbody>\n",
       "</table>\n",
       "<p>4611 rows × 2 columns</p>\n",
       "</div>"
      ],
      "text/plain": [
       "             0          1\n",
       "0     597000.0  7313000.0\n",
       "1     598000.0  7313000.0\n",
       "2     599000.0  7313000.0\n",
       "3     600000.0  7313000.0\n",
       "4     601000.0  7313000.0\n",
       "...        ...        ...\n",
       "4606  679000.0  7365000.0\n",
       "4607  680000.0  7365000.0\n",
       "4608  681000.0  7365000.0\n",
       "4609  682000.0  7365000.0\n",
       "4610  683000.0  7365000.0\n",
       "\n",
       "[4611 rows x 2 columns]"
      ]
     },
     "execution_count": 14,
     "metadata": {},
     "output_type": "execute_result"
    }
   ],
   "source": [
    "df"
   ]
  },
  {
   "cell_type": "code",
   "execution_count": 15,
   "id": "ba9fa7c2",
   "metadata": {},
   "outputs": [],
   "source": [
    "df.to_csv(\"receiver_grid.csv\", index=False, header=None)"
   ]
  },
  {
   "cell_type": "code",
   "execution_count": 16,
   "id": "a9b17b5b",
   "metadata": {},
   "outputs": [],
   "source": [
    "df[\"z\"] = 0.1"
   ]
  },
  {
   "cell_type": "code",
   "execution_count": 18,
   "id": "5e967358",
   "metadata": {},
   "outputs": [],
   "source": [
    "df.to_csv(\"receiver_grid_seasurface.csv\", index=False, header=None)"
   ]
  }
 ],
 "metadata": {
  "kernelspec": {
   "display_name": "Python 3 (ipykernel)",
   "language": "python",
   "name": "python3"
  },
  "language_info": {
   "codemirror_mode": {
    "name": "ipython",
    "version": 3
   },
   "file_extension": ".py",
   "mimetype": "text/x-python",
   "name": "python",
   "nbconvert_exporter": "python",
   "pygments_lexer": "ipython3",
   "version": "3.9.7"
  }
 },
 "nbformat": 4,
 "nbformat_minor": 5
}
