{
 "cells": [
  {
   "cell_type": "code",
   "execution_count": 1,
   "id": "ed424d52",
   "metadata": {},
   "outputs": [],
   "source": [
    "import pandas as pd\n",
    "import numpy as np"
   ]
  },
  {
   "cell_type": "code",
   "execution_count": 2,
   "id": "79c40c54",
   "metadata": {},
   "outputs": [],
   "source": [
    "Xmin = -325e3;\n",
    "Xmax = 425e3;\n",
    "Ymax = 375e3;\n",
    "Ymin = -Ymax;\n",
    "Zmin = -250e3;\n",
    "Zmax = 2000; #height of the water layer\n",
    "\n",
    "\n",
    "spacing_interpair = 50\n",
    "spacing = 2000"
   ]
  },
  {
   "cell_type": "code",
   "execution_count": 3,
   "id": "4e113c46",
   "metadata": {},
   "outputs": [],
   "source": [
    "x_array = np.linspace(Xmin, Xmax, num=int((abs(Xmin)+Xmax)/spacing)+1)"
   ]
  },
  {
   "cell_type": "code",
   "execution_count": 4,
   "id": "1053b40c",
   "metadata": {},
   "outputs": [],
   "source": [
    "x_array_pair = x_array + spacing_interpair"
   ]
  },
  {
   "cell_type": "code",
   "execution_count": 5,
   "id": "c92bdd28",
   "metadata": {},
   "outputs": [],
   "source": [
    "y1 = -100e3\n",
    "y2 = 0\n",
    "y3 = 100e3"
   ]
  },
  {
   "cell_type": "code",
   "execution_count": 6,
   "id": "4b5f94e6",
   "metadata": {},
   "outputs": [],
   "source": [
    "y_array = np.linspace(Ymin, Ymax, num=int((abs(Ymin)+Ymax)/spacing)+1)"
   ]
  },
  {
   "cell_type": "code",
   "execution_count": 7,
   "id": "6f5b904f",
   "metadata": {},
   "outputs": [],
   "source": [
    "y_array_pair = y_array + spacing_interpair"
   ]
  },
  {
   "cell_type": "code",
   "execution_count": 8,
   "id": "d1235869",
   "metadata": {},
   "outputs": [],
   "source": [
    "x1 = -100e3\n",
    "x2 = 0\n",
    "x3 = 100e3"
   ]
  },
  {
   "cell_type": "markdown",
   "id": "d20c8701",
   "metadata": {},
   "source": [
    "# Concat arrays"
   ]
  },
  {
   "cell_type": "code",
   "execution_count": 9,
   "id": "dd475bbd",
   "metadata": {},
   "outputs": [
    {
     "data": {
      "text/plain": [
       "752"
      ]
     },
     "execution_count": 9,
     "metadata": {},
     "output_type": "execute_result"
    }
   ],
   "source": [
    "x_ar = np.concatenate((x_array, x_array_pair), axis=None)\n",
    "len(x_ar)"
   ]
  },
  {
   "cell_type": "code",
   "execution_count": 10,
   "id": "4723cb72",
   "metadata": {},
   "outputs": [
    {
     "data": {
      "text/plain": [
       "752"
      ]
     },
     "execution_count": 10,
     "metadata": {},
     "output_type": "execute_result"
    }
   ],
   "source": [
    "y_ar = np.concatenate((y_array, y_array_pair), axis=None)\n",
    "len(y_ar)"
   ]
  },
  {
   "cell_type": "markdown",
   "id": "3cf89c7c",
   "metadata": {},
   "source": [
    "# Create arrays"
   ]
  },
  {
   "cell_type": "code",
   "execution_count": 11,
   "id": "cf630f5c",
   "metadata": {},
   "outputs": [],
   "source": [
    "# total df\n",
    "df_tot = pd.DataFrame(columns=['x','y','z'])"
   ]
  },
  {
   "cell_type": "code",
   "execution_count": 12,
   "id": "643f5035",
   "metadata": {},
   "outputs": [],
   "source": [
    "df = pd.DataFrame(columns=['x','y','z'])\n",
    "df[\"x\"] = pd.DataFrame(x_ar)\n",
    "df[\"y\"] = y1"
   ]
  },
  {
   "cell_type": "code",
   "execution_count": 13,
   "id": "a8cdadf2",
   "metadata": {},
   "outputs": [],
   "source": [
    "# concat df\n",
    "df_tot = pd.concat([df, df_tot], ignore_index=True)"
   ]
  },
  {
   "cell_type": "code",
   "execution_count": 14,
   "id": "313d38e4",
   "metadata": {},
   "outputs": [],
   "source": [
    "df = pd.DataFrame(columns=['x','y','z'])\n",
    "df[\"x\"] = pd.DataFrame(x_ar)\n",
    "df[\"y\"] = y2\n",
    "# concat df\n",
    "df_tot = pd.concat([df, df_tot], ignore_index=True)"
   ]
  },
  {
   "cell_type": "code",
   "execution_count": 15,
   "id": "5474bc8e",
   "metadata": {},
   "outputs": [],
   "source": [
    "df = pd.DataFrame(columns=['x','y','z'])\n",
    "df[\"x\"] = pd.DataFrame(x_ar)\n",
    "df[\"y\"] = y3\n",
    "# concat df\n",
    "df_tot = pd.concat([df, df_tot], ignore_index=True)"
   ]
  },
  {
   "cell_type": "code",
   "execution_count": 16,
   "id": "c266d9e8",
   "metadata": {},
   "outputs": [],
   "source": [
    "# FOR Y ARRAY\n",
    "df = pd.DataFrame(columns=['x','y','z'])\n",
    "df[\"y\"] = pd.DataFrame(y_ar)\n",
    "df[\"x\"] = x1\n",
    "# concat df\n",
    "df_tot = pd.concat([df, df_tot], ignore_index=True)"
   ]
  },
  {
   "cell_type": "code",
   "execution_count": 17,
   "id": "e9ed1eef",
   "metadata": {},
   "outputs": [],
   "source": [
    "# for y array\n",
    "df = pd.DataFrame(columns=['x','y','z'])\n",
    "df[\"y\"] = pd.DataFrame(y_ar)\n",
    "df[\"x\"] = x2\n",
    "# concat df\n",
    "df_tot = pd.concat([df, df_tot], ignore_index=True)"
   ]
  },
  {
   "cell_type": "code",
   "execution_count": 18,
   "id": "e168e4e5",
   "metadata": {},
   "outputs": [],
   "source": [
    "# for y array\n",
    "df = pd.DataFrame(columns=['x','y','z'])\n",
    "df[\"y\"] = pd.DataFrame(y_ar)\n",
    "df[\"x\"] = x3\n",
    "# concat df\n",
    "df_tot = pd.concat([df, df_tot], ignore_index=True)"
   ]
  },
  {
   "cell_type": "code",
   "execution_count": 19,
   "id": "78b40786",
   "metadata": {},
   "outputs": [],
   "source": [
    "df_tot[\"z\"] = 0.1"
   ]
  },
  {
   "cell_type": "code",
   "execution_count": 20,
   "id": "7d370432",
   "metadata": {},
   "outputs": [],
   "source": [
    "df_tot.to_csv(\"receivers_megathrust.dat\", index=False, header=False, sep=\" \")"
   ]
  }
 ],
 "metadata": {
  "kernelspec": {
   "display_name": "Python 3 (ipykernel)",
   "language": "python",
   "name": "python3"
  },
  "language_info": {
   "codemirror_mode": {
    "name": "ipython",
    "version": 3
   },
   "file_extension": ".py",
   "mimetype": "text/x-python",
   "name": "python",
   "nbconvert_exporter": "python",
   "pygments_lexer": "ipython3",
   "version": "3.9.13"
  }
 },
 "nbformat": 4,
 "nbformat_minor": 5
}
