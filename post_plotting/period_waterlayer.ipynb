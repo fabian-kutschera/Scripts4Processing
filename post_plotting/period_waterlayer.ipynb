{
 "cells": [
  {
   "cell_type": "markdown",
   "id": "4f0e48b6",
   "metadata": {},
   "source": [
    "@Fabian Kutschera, your ocean layer should be parameterized as having an acoustic wave speed of $c_p = 1500 m/s$ and density $\\rho = 1000 kg/m3$ . The longest period acoustic mode can be approximated as the quarter wavelength mode at period of approximately 4*(water depth)/(sound speed), so around 5.3 seconds if water depth is 2 km (bearbeitet) "
   ]
  },
  {
   "cell_type": "markdown",
   "id": "0fb1c39e",
   "metadata": {},
   "source": [
    "    - !GroupFilter\n",
    "      groups: [2]\n",
    "      components: !ConstantMap\n",
    "        map: \n",
    "          rho:  1000\n",
    "          mu:   0.0\n",
    "          lambda: 2.2e9\n"
   ]
  },
  {
   "cell_type": "code",
   "execution_count": 2,
   "id": "31d737c2",
   "metadata": {},
   "outputs": [],
   "source": [
    "import math as m"
   ]
  },
  {
   "cell_type": "code",
   "execution_count": 4,
   "id": "09249904",
   "metadata": {},
   "outputs": [],
   "source": [
    "rho = 1000\n",
    "l = 2.2e9\n",
    "mu = 0"
   ]
  },
  {
   "cell_type": "code",
   "execution_count": 6,
   "id": "8fde8c2e",
   "metadata": {},
   "outputs": [
    {
     "data": {
      "text/plain": [
       "1483.2396974191327"
      ]
     },
     "execution_count": 6,
     "metadata": {},
     "output_type": "execute_result"
    }
   ],
   "source": [
    "vp = m.sqrt((l + 2*mu)/rho)\n",
    "vp"
   ]
  },
  {
   "cell_type": "code",
   "execution_count": 14,
   "id": "19b66aa8",
   "metadata": {},
   "outputs": [],
   "source": [
    "depth = 300 # m\n",
    "#depth = 2000 # m"
   ]
  },
  {
   "cell_type": "code",
   "execution_count": 15,
   "id": "776e997c",
   "metadata": {},
   "outputs": [
    {
     "data": {
      "text/plain": [
       "0.8090398349558905"
      ]
     },
     "execution_count": 15,
     "metadata": {},
     "output_type": "execute_result"
    }
   ],
   "source": [
    "4 * depth/vp"
   ]
  },
  {
   "cell_type": "code",
   "execution_count": null,
   "id": "2e97b181",
   "metadata": {},
   "outputs": [],
   "source": []
  }
 ],
 "metadata": {
  "kernelspec": {
   "display_name": "Python 3 (ipykernel)",
   "language": "python",
   "name": "python3"
  },
  "language_info": {
   "codemirror_mode": {
    "name": "ipython",
    "version": 3
   },
   "file_extension": ".py",
   "mimetype": "text/x-python",
   "name": "python",
   "nbconvert_exporter": "python",
   "pygments_lexer": "ipython3",
   "version": "3.9.7"
  }
 },
 "nbformat": 4,
 "nbformat_minor": 5
}
