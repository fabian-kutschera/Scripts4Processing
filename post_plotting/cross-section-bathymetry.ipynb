{
 "cells": [
  {
   "cell_type": "code",
   "execution_count": 51,
   "id": "bfdba626",
   "metadata": {},
   "outputs": [],
   "source": [
    "import pandas as pd\n",
    "import matplotlib.pyplot as plt\n",
    "import numpy as np\n",
    "import glob\n",
    "import os\n",
    "from cmcrameri import cm\n",
    "\n",
    "plt.rcParams[\"font.family\"] = \"serif\"\n",
    "plt.rc('xtick', labelsize=11) \n",
    "plt.rc('ytick', labelsize=11)"
   ]
  },
  {
   "cell_type": "code",
   "execution_count": 52,
   "id": "23867465",
   "metadata": {},
   "outputs": [],
   "source": [
    "df = pd.read_csv(\"/import/freenas-m-05-seissol/kutschera/HIWI/Scripts/Github/GMT/Iceland/BathymetryProfiles/bathy_profile.dat\", \n",
    "                 sep=\"\\t\", names=[\"x1\",\"x2\",\"x3\",\"Bathymetry\"])"
   ]
  },
  {
   "cell_type": "code",
   "execution_count": 53,
   "id": "6c8d582c",
   "metadata": {},
   "outputs": [
    {
     "data": {
      "text/html": [
       "<div>\n",
       "<style scoped>\n",
       "    .dataframe tbody tr th:only-of-type {\n",
       "        vertical-align: middle;\n",
       "    }\n",
       "\n",
       "    .dataframe tbody tr th {\n",
       "        vertical-align: top;\n",
       "    }\n",
       "\n",
       "    .dataframe thead th {\n",
       "        text-align: right;\n",
       "    }\n",
       "</style>\n",
       "<table border=\"1\" class=\"dataframe\">\n",
       "  <thead>\n",
       "    <tr style=\"text-align: right;\">\n",
       "      <th></th>\n",
       "      <th>x1</th>\n",
       "      <th>x2</th>\n",
       "      <th>x3</th>\n",
       "      <th>Bathymetry</th>\n",
       "    </tr>\n",
       "  </thead>\n",
       "  <tbody>\n",
       "    <tr>\n",
       "      <th>0</th>\n",
       "      <td>612800.0</td>\n",
       "      <td>7327000</td>\n",
       "      <td>-0.1</td>\n",
       "      <td>0.916371</td>\n",
       "    </tr>\n",
       "    <tr>\n",
       "      <th>1</th>\n",
       "      <td>612822.2</td>\n",
       "      <td>7327038</td>\n",
       "      <td>-0.1</td>\n",
       "      <td>-2.768692</td>\n",
       "    </tr>\n",
       "    <tr>\n",
       "      <th>2</th>\n",
       "      <td>612844.4</td>\n",
       "      <td>7327076</td>\n",
       "      <td>-0.1</td>\n",
       "      <td>-6.389944</td>\n",
       "    </tr>\n",
       "    <tr>\n",
       "      <th>3</th>\n",
       "      <td>612866.6</td>\n",
       "      <td>7327114</td>\n",
       "      <td>-0.1</td>\n",
       "      <td>-9.861039</td>\n",
       "    </tr>\n",
       "    <tr>\n",
       "      <th>4</th>\n",
       "      <td>612888.8</td>\n",
       "      <td>7327152</td>\n",
       "      <td>-0.1</td>\n",
       "      <td>-13.096581</td>\n",
       "    </tr>\n",
       "  </tbody>\n",
       "</table>\n",
       "</div>"
      ],
      "text/plain": [
       "         x1       x2   x3  Bathymetry\n",
       "0  612800.0  7327000 -0.1    0.916371\n",
       "1  612822.2  7327038 -0.1   -2.768692\n",
       "2  612844.4  7327076 -0.1   -6.389944\n",
       "3  612866.6  7327114 -0.1   -9.861039\n",
       "4  612888.8  7327152 -0.1  -13.096581"
      ]
     },
     "execution_count": 53,
     "metadata": {},
     "output_type": "execute_result"
    }
   ],
   "source": [
    "df.head()"
   ]
  },
  {
   "cell_type": "code",
   "execution_count": 54,
   "id": "93621465",
   "metadata": {},
   "outputs": [
    {
     "name": "stdout",
     "output_type": "stream",
     "text": [
      "44.0095444193643\n",
      "1001\n",
      "1001\n"
     ]
    }
   ],
   "source": [
    "length_xy = np.sqrt((df['x1'].iloc[0] - df['x1'].iloc[-1])**2 + (df['x2'].iloc[0] - df['x2'].iloc[-1])**2)\n",
    "length_xy = length_xy/1000 # km\n",
    "print(length_xy)\n",
    "distance = np.linspace(0,length_xy,len(df))\n",
    "print(len(distance))\n",
    "print(len(df.Bathymetry))"
   ]
  },
  {
   "cell_type": "code",
   "execution_count": 55,
   "id": "7c1869cd",
   "metadata": {},
   "outputs": [
    {
     "data": {
      "image/png": "[encoded data removed]",
      "text/plain": [
       "<Figure size 432x288 with 1 Axes>"
      ]
     },
     "metadata": {
      "needs_background": "light"
     },
     "output_type": "display_data"
    }
   ],
   "source": [
    "plt.plot(distance,df.Bathymetry)\n",
    "plt.xlim(min(distance), max(distance))\n",
    "plt.xlabel(\"Distance [km]\")\n",
    "plt.ylabel(\"Depth [m]\")\n",
    "plt.show()"
   ]
  },
  {
   "cell_type": "code",
   "execution_count": 56,
   "id": "1184c3c8",
   "metadata": {},
   "outputs": [
    {
     "name": "stdout",
     "output_type": "stream",
     "text": [
      "-183.312462293\n",
      "-84.3145142467912\n"
     ]
    }
   ],
   "source": [
    "print(min(df.Bathymetry))\n",
    "print(df.Bathymetry.mean())"
   ]
  },
  {
   "cell_type": "markdown",
   "id": "39b504b7",
   "metadata": {},
   "source": [
    "# from ParaView trace"
   ]
  },
  {
   "cell_type": "code",
   "execution_count": 27,
   "id": "1374094a",
   "metadata": {},
   "outputs": [],
   "source": [
    "df = pd.read_csv(\"./input/bathy_612800_635000_7327000_7365000.csv\")"
   ]
  },
  {
   "cell_type": "code",
   "execution_count": 28,
   "id": "f3b63148",
   "metadata": {},
   "outputs": [
    {
     "data": {
      "text/html": [
       "<div>\n",
       "<style scoped>\n",
       "    .dataframe tbody tr th:only-of-type {\n",
       "        vertical-align: middle;\n",
       "    }\n",
       "\n",
       "    .dataframe tbody tr th {\n",
       "        vertical-align: top;\n",
       "    }\n",
       "\n",
       "    .dataframe thead th {\n",
       "        text-align: right;\n",
       "    }\n",
       "</style>\n",
       "<table border=\"1\" class=\"dataframe\">\n",
       "  <thead>\n",
       "    <tr style=\"text-align: right;\">\n",
       "      <th></th>\n",
       "      <th>Bathymetry</th>\n",
       "      <th>Momentum:0</th>\n",
       "      <th>Momentum:1</th>\n",
       "      <th>WaterHeight</th>\n",
       "      <th>WaterLevel</th>\n",
       "      <th>Depth</th>\n",
       "      <th>Plotter</th>\n",
       "      <th>Rank</th>\n",
       "      <th>Section</th>\n",
       "      <th>vtkValidPointMask</th>\n",
       "      <th>arc_length</th>\n",
       "      <th>Points:0</th>\n",
       "      <th>Points:1</th>\n",
       "      <th>Points:2</th>\n",
       "      <th>x1</th>\n",
       "      <th>x2</th>\n",
       "    </tr>\n",
       "  </thead>\n",
       "  <tbody>\n",
       "    <tr>\n",
       "      <th>0</th>\n",
       "      <td>-2.5938</td>\n",
       "      <td>2.086100e-11</td>\n",
       "      <td>1.775000e-10</td>\n",
       "      <td>4.5748</td>\n",
       "      <td>1.981000</td>\n",
       "      <td>22</td>\n",
       "      <td>6</td>\n",
       "      <td>0</td>\n",
       "      <td>20</td>\n",
       "      <td>1</td>\n",
       "      <td>0.000</td>\n",
       "      <td>612800.0</td>\n",
       "      <td>7327000.0</td>\n",
       "      <td>0</td>\n",
       "      <td>612800.0</td>\n",
       "      <td>7327000.0</td>\n",
       "    </tr>\n",
       "    <tr>\n",
       "      <th>1</th>\n",
       "      <td>-6.1058</td>\n",
       "      <td>9.750300e-10</td>\n",
       "      <td>4.177100e-07</td>\n",
       "      <td>6.7003</td>\n",
       "      <td>0.594560</td>\n",
       "      <td>22</td>\n",
       "      <td>4</td>\n",
       "      <td>0</td>\n",
       "      <td>20</td>\n",
       "      <td>1</td>\n",
       "      <td>44.003</td>\n",
       "      <td>612820.0</td>\n",
       "      <td>7327000.0</td>\n",
       "      <td>0</td>\n",
       "      <td>612820.0</td>\n",
       "      <td>7327000.0</td>\n",
       "    </tr>\n",
       "    <tr>\n",
       "      <th>2</th>\n",
       "      <td>-8.4412</td>\n",
       "      <td>-3.504800e-09</td>\n",
       "      <td>2.079000e-05</td>\n",
       "      <td>8.4424</td>\n",
       "      <td>0.001148</td>\n",
       "      <td>22</td>\n",
       "      <td>6</td>\n",
       "      <td>0</td>\n",
       "      <td>20</td>\n",
       "      <td>1</td>\n",
       "      <td>88.006</td>\n",
       "      <td>612840.0</td>\n",
       "      <td>7327100.0</td>\n",
       "      <td>0</td>\n",
       "      <td>612840.0</td>\n",
       "      <td>7327100.0</td>\n",
       "    </tr>\n",
       "    <tr>\n",
       "      <th>3</th>\n",
       "      <td>-8.5747</td>\n",
       "      <td>-3.054700e-08</td>\n",
       "      <td>4.463500e-07</td>\n",
       "      <td>8.5758</td>\n",
       "      <td>0.001130</td>\n",
       "      <td>22</td>\n",
       "      <td>8</td>\n",
       "      <td>0</td>\n",
       "      <td>20</td>\n",
       "      <td>1</td>\n",
       "      <td>132.040</td>\n",
       "      <td>612870.0</td>\n",
       "      <td>7327100.0</td>\n",
       "      <td>0</td>\n",
       "      <td>612870.0</td>\n",
       "      <td>7327100.0</td>\n",
       "    </tr>\n",
       "    <tr>\n",
       "      <th>4</th>\n",
       "      <td>-8.5747</td>\n",
       "      <td>-1.147800e-06</td>\n",
       "      <td>-6.008800e-09</td>\n",
       "      <td>8.5758</td>\n",
       "      <td>0.001130</td>\n",
       "      <td>22</td>\n",
       "      <td>4</td>\n",
       "      <td>0</td>\n",
       "      <td>20</td>\n",
       "      <td>1</td>\n",
       "      <td>176.040</td>\n",
       "      <td>612890.0</td>\n",
       "      <td>7327200.0</td>\n",
       "      <td>0</td>\n",
       "      <td>612890.0</td>\n",
       "      <td>7327200.0</td>\n",
       "    </tr>\n",
       "  </tbody>\n",
       "</table>\n",
       "</div>"
      ],
      "text/plain": [
       "   Bathymetry    Momentum:0    Momentum:1  WaterHeight  WaterLevel  Depth  \\\n",
       "0     -2.5938  2.086100e-11  1.775000e-10       4.5748    1.981000     22   \n",
       "1     -6.1058  9.750300e-10  4.177100e-07       6.7003    0.594560     22   \n",
       "2     -8.4412 -3.504800e-09  2.079000e-05       8.4424    0.001148     22   \n",
       "3     -8.5747 -3.054700e-08  4.463500e-07       8.5758    0.001130     22   \n",
       "4     -8.5747 -1.147800e-06 -6.008800e-09       8.5758    0.001130     22   \n",
       "\n",
       "   Plotter  Rank  Section  vtkValidPointMask  arc_length  Points:0   Points:1  \\\n",
       "0        6     0       20                  1       0.000  612800.0  7327000.0   \n",
       "1        4     0       20                  1      44.003  612820.0  7327000.0   \n",
       "2        6     0       20                  1      88.006  612840.0  7327100.0   \n",
       "3        8     0       20                  1     132.040  612870.0  7327100.0   \n",
       "4        4     0       20                  1     176.040  612890.0  7327200.0   \n",
       "\n",
       "   Points:2        x1         x2  \n",
       "0         0  612800.0  7327000.0  \n",
       "1         0  612820.0  7327000.0  \n",
       "2         0  612840.0  7327100.0  \n",
       "3         0  612870.0  7327100.0  \n",
       "4         0  612890.0  7327200.0  "
      ]
     },
     "execution_count": 28,
     "metadata": {},
     "output_type": "execute_result"
    }
   ],
   "source": [
    "df['x1'] = df['Points:0']\n",
    "df['x2'] = df['Points:1']\n",
    "df.head()"
   ]
  },
  {
   "cell_type": "code",
   "execution_count": 29,
   "id": "55a0aab8",
   "metadata": {},
   "outputs": [
    {
     "data": {
      "text/plain": [
       "44.0095444193643"
      ]
     },
     "execution_count": 29,
     "metadata": {},
     "output_type": "execute_result"
    }
   ],
   "source": [
    "length_xy = np.sqrt((df['x1'].iloc[0] - df['x1'].iloc[-1])**2 + (df['x2'].iloc[0] - df['x2'].iloc[-1])**2)\n",
    "length_xy = length_xy/1000 # km\n",
    "length_xy"
   ]
  },
  {
   "cell_type": "code",
   "execution_count": 30,
   "id": "8a9ce32c",
   "metadata": {},
   "outputs": [
    {
     "data": {
      "text/plain": [
       "1001"
      ]
     },
     "execution_count": 30,
     "metadata": {},
     "output_type": "execute_result"
    }
   ],
   "source": [
    "distance = np.linspace(0,length_xy,len(df))\n",
    "len(distance)"
   ]
  },
  {
   "cell_type": "code",
   "execution_count": 31,
   "id": "cfc3437d",
   "metadata": {},
   "outputs": [
    {
     "data": {
      "image/png": "[encoded data removed]",
      "text/plain": [
       "<Figure size 432x288 with 1 Axes>"
      ]
     },
     "metadata": {
      "needs_background": "light"
     },
     "output_type": "display_data"
    }
   ],
   "source": [
    "plt.plot(distance,df.Bathymetry)\n",
    "plt.xlim(min(distance), max(distance))\n",
    "plt.xlabel(\"Distance [km]\")\n",
    "plt.ylabel(\"Depth [m]\")\n",
    "plt.show()"
   ]
  },
  {
   "cell_type": "code",
   "execution_count": 32,
   "id": "d1bca7ad",
   "metadata": {},
   "outputs": [
    {
     "name": "stdout",
     "output_type": "stream",
     "text": [
      "-184.51\n",
      "-84.13785824175825\n"
     ]
    }
   ],
   "source": [
    "print(min(df.Bathymetry))\n",
    "print(df.Bathymetry.mean())"
   ]
  }
 ],
 "metadata": {
  "kernelspec": {
   "display_name": "Python 3 (ipykernel)",
   "language": "python",
   "name": "python3"
  },
  "language_info": {
   "codemirror_mode": {
    "name": "ipython",
    "version": 3
   },
   "file_extension": ".py",
   "mimetype": "text/x-python",
   "name": "python",
   "nbconvert_exporter": "python",
   "pygments_lexer": "ipython3",
   "version": "3.9.7"
  }
 },
 "nbformat": 4,
 "nbformat_minor": 5
}
