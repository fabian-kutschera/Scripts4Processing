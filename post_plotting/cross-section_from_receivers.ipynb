{
 "cells": [
  {
   "cell_type": "code",
   "execution_count": 26,
   "id": "7dfb5f10",
   "metadata": {},
   "outputs": [],
   "source": [
    "import pandas as pd\n",
    "import matplotlib.pyplot as plt\n",
    "import numpy as np\n",
    "import glob\n",
    "import os\n",
    "from cmcrameri import cm"
   ]
  },
  {
   "cell_type": "code",
   "execution_count": 2,
   "id": "51166cce",
   "metadata": {},
   "outputs": [],
   "source": [
    "directory = \"/import/freenas-m-04-students/fkutschera/simulations/HFFZ_fullycp_o5_180s/\"\n",
    "#file = \"HFFZ_fullycp-receiver-00039-00031.dat\"\n",
    "#file = \"HFFZ_fullycp-receiver-00116-00014.dat\"\n",
    "file = \"HFFZ_fullycp-receiver-00164-00011.dat\""
   ]
  },
  {
   "cell_type": "code",
   "execution_count": 3,
   "id": "28a367d4",
   "metadata": {},
   "outputs": [],
   "source": [
    "column_names = [\"Time\",\"xx\",\"yy\",\"zz\",\"xy\",\"yz\",\"xz\",\"u\",\"v\",\"w\"]"
   ]
  },
  {
   "cell_type": "code",
   "execution_count": 4,
   "id": "10552f9e",
   "metadata": {},
   "outputs": [
    {
     "data": {
      "text/html": [
       "<div>\n",
       "<style scoped>\n",
       "    .dataframe tbody tr th:only-of-type {\n",
       "        vertical-align: middle;\n",
       "    }\n",
       "\n",
       "    .dataframe tbody tr th {\n",
       "        vertical-align: top;\n",
       "    }\n",
       "\n",
       "    .dataframe thead th {\n",
       "        text-align: right;\n",
       "    }\n",
       "</style>\n",
       "<table border=\"1\" class=\"dataframe\">\n",
       "  <thead>\n",
       "    <tr style=\"text-align: right;\">\n",
       "      <th></th>\n",
       "      <th>Time</th>\n",
       "      <th>u</th>\n",
       "      <th>v</th>\n",
       "      <th>w</th>\n",
       "    </tr>\n",
       "  </thead>\n",
       "  <tbody>\n",
       "    <tr>\n",
       "      <th>0</th>\n",
       "      <td>0.0</td>\n",
       "      <td>0.000000e+00</td>\n",
       "      <td>0.000000e+00</td>\n",
       "      <td>0.000000e+00</td>\n",
       "    </tr>\n",
       "    <tr>\n",
       "      <th>1</th>\n",
       "      <td>0.1</td>\n",
       "      <td>0.000000e+00</td>\n",
       "      <td>0.000000e+00</td>\n",
       "      <td>0.000000e+00</td>\n",
       "    </tr>\n",
       "    <tr>\n",
       "      <th>2</th>\n",
       "      <td>0.2</td>\n",
       "      <td>0.000000e+00</td>\n",
       "      <td>0.000000e+00</td>\n",
       "      <td>0.000000e+00</td>\n",
       "    </tr>\n",
       "    <tr>\n",
       "      <th>3</th>\n",
       "      <td>0.3</td>\n",
       "      <td>1.658069e-132</td>\n",
       "      <td>5.827383e-132</td>\n",
       "      <td>-1.062238e-131</td>\n",
       "    </tr>\n",
       "    <tr>\n",
       "      <th>4</th>\n",
       "      <td>0.4</td>\n",
       "      <td>6.498836e-97</td>\n",
       "      <td>2.962924e-96</td>\n",
       "      <td>-1.470703e-96</td>\n",
       "    </tr>\n",
       "  </tbody>\n",
       "</table>\n",
       "</div>"
      ],
      "text/plain": [
       "   Time              u              v              w\n",
       "0   0.0   0.000000e+00   0.000000e+00   0.000000e+00\n",
       "1   0.1   0.000000e+00   0.000000e+00   0.000000e+00\n",
       "2   0.2   0.000000e+00   0.000000e+00   0.000000e+00\n",
       "3   0.3  1.658069e-132  5.827383e-132 -1.062238e-131\n",
       "4   0.4   6.498836e-97   2.962924e-96  -1.470703e-96"
      ]
     },
     "execution_count": 4,
     "metadata": {},
     "output_type": "execute_result"
    }
   ],
   "source": [
    "df = pd.read_csv(directory+file, skiprows=5, sep='\\s+', names=column_names)\n",
    "df.drop(columns=[\"xx\",\"yy\",\"zz\",\"xy\",\"yz\",\"xz\"], inplace=True)\n",
    "df.head()"
   ]
  },
  {
   "cell_type": "code",
   "execution_count": 5,
   "id": "f4cb06ee",
   "metadata": {},
   "outputs": [],
   "source": [
    "coords = pd.read_csv(directory+file, nrows=3, skiprows=2, header=None, sep=\"\\s+\") #names=[\"x1\", \"x2\", \"x3\"]\n",
    "x1 = coords[2][0]\n",
    "x2 = coords[2][1]\n",
    "x3 = coords[2][2]"
   ]
  },
  {
   "cell_type": "code",
   "execution_count": 6,
   "id": "372e4019",
   "metadata": {},
   "outputs": [
    {
     "data": {
      "text/html": [
       "<div>\n",
       "<style scoped>\n",
       "    .dataframe tbody tr th:only-of-type {\n",
       "        vertical-align: middle;\n",
       "    }\n",
       "\n",
       "    .dataframe tbody tr th {\n",
       "        vertical-align: top;\n",
       "    }\n",
       "\n",
       "    .dataframe thead th {\n",
       "        text-align: right;\n",
       "    }\n",
       "</style>\n",
       "<table border=\"1\" class=\"dataframe\">\n",
       "  <thead>\n",
       "    <tr style=\"text-align: right;\">\n",
       "      <th></th>\n",
       "      <th>Time</th>\n",
       "      <th>u</th>\n",
       "      <th>v</th>\n",
       "      <th>w</th>\n",
       "      <th>x1</th>\n",
       "      <th>x2</th>\n",
       "      <th>x3</th>\n",
       "    </tr>\n",
       "  </thead>\n",
       "  <tbody>\n",
       "    <tr>\n",
       "      <th>0</th>\n",
       "      <td>0.0</td>\n",
       "      <td>0.000000e+00</td>\n",
       "      <td>0.000000e+00</td>\n",
       "      <td>0.000000e+00</td>\n",
       "      <td>630893.0</td>\n",
       "      <td>7357970.0</td>\n",
       "      <td>0.0</td>\n",
       "    </tr>\n",
       "    <tr>\n",
       "      <th>1</th>\n",
       "      <td>0.1</td>\n",
       "      <td>0.000000e+00</td>\n",
       "      <td>0.000000e+00</td>\n",
       "      <td>0.000000e+00</td>\n",
       "      <td>630893.0</td>\n",
       "      <td>7357970.0</td>\n",
       "      <td>0.0</td>\n",
       "    </tr>\n",
       "    <tr>\n",
       "      <th>2</th>\n",
       "      <td>0.2</td>\n",
       "      <td>0.000000e+00</td>\n",
       "      <td>0.000000e+00</td>\n",
       "      <td>0.000000e+00</td>\n",
       "      <td>630893.0</td>\n",
       "      <td>7357970.0</td>\n",
       "      <td>0.0</td>\n",
       "    </tr>\n",
       "    <tr>\n",
       "      <th>3</th>\n",
       "      <td>0.3</td>\n",
       "      <td>1.658069e-132</td>\n",
       "      <td>5.827383e-132</td>\n",
       "      <td>-1.062238e-131</td>\n",
       "      <td>630893.0</td>\n",
       "      <td>7357970.0</td>\n",
       "      <td>0.0</td>\n",
       "    </tr>\n",
       "    <tr>\n",
       "      <th>4</th>\n",
       "      <td>0.4</td>\n",
       "      <td>6.498836e-97</td>\n",
       "      <td>2.962924e-96</td>\n",
       "      <td>-1.470703e-96</td>\n",
       "      <td>630893.0</td>\n",
       "      <td>7357970.0</td>\n",
       "      <td>0.0</td>\n",
       "    </tr>\n",
       "  </tbody>\n",
       "</table>\n",
       "</div>"
      ],
      "text/plain": [
       "   Time              u              v              w        x1         x2   x3\n",
       "0   0.0   0.000000e+00   0.000000e+00   0.000000e+00  630893.0  7357970.0  0.0\n",
       "1   0.1   0.000000e+00   0.000000e+00   0.000000e+00  630893.0  7357970.0  0.0\n",
       "2   0.2   0.000000e+00   0.000000e+00   0.000000e+00  630893.0  7357970.0  0.0\n",
       "3   0.3  1.658069e-132  5.827383e-132 -1.062238e-131  630893.0  7357970.0  0.0\n",
       "4   0.4   6.498836e-97   2.962924e-96  -1.470703e-96  630893.0  7357970.0  0.0"
      ]
     },
     "execution_count": 6,
     "metadata": {},
     "output_type": "execute_result"
    }
   ],
   "source": [
    "df[\"x1\"]=x1\n",
    "df[\"x2\"]=x2\n",
    "df[\"x3\"]=x3\n",
    "df.head()"
   ]
  },
  {
   "cell_type": "code",
   "execution_count": 7,
   "id": "3a070700",
   "metadata": {},
   "outputs": [
    {
     "data": {
      "text/plain": [
       "[<matplotlib.lines.Line2D at 0x7fcacfb18220>]"
      ]
     },
     "execution_count": 7,
     "metadata": {},
     "output_type": "execute_result"
    },
    {
     "data": {
      "image/png": "[encoded data removed]",
      "text/plain": [
       "<Figure size 432x288 with 1 Axes>"
      ]
     },
     "metadata": {
      "needs_background": "light"
     },
     "output_type": "display_data"
    }
   ],
   "source": [
    "plt.plot(df.Time,df.w)"
   ]
  },
  {
   "cell_type": "code",
   "execution_count": 9,
   "id": "4904691c",
   "metadata": {},
   "outputs": [
    {
     "data": {
      "text/html": [
       "<div>\n",
       "<style scoped>\n",
       "    .dataframe tbody tr th:only-of-type {\n",
       "        vertical-align: middle;\n",
       "    }\n",
       "\n",
       "    .dataframe tbody tr th {\n",
       "        vertical-align: top;\n",
       "    }\n",
       "\n",
       "    .dataframe thead th {\n",
       "        text-align: right;\n",
       "    }\n",
       "</style>\n",
       "<table border=\"1\" class=\"dataframe\">\n",
       "  <thead>\n",
       "    <tr style=\"text-align: right;\">\n",
       "      <th></th>\n",
       "      <th>Time</th>\n",
       "      <th>u</th>\n",
       "      <th>v</th>\n",
       "      <th>w</th>\n",
       "      <th>x1</th>\n",
       "      <th>x2</th>\n",
       "      <th>x3</th>\n",
       "    </tr>\n",
       "  </thead>\n",
       "  <tbody>\n",
       "    <tr>\n",
       "      <th>400</th>\n",
       "      <td>40.0</td>\n",
       "      <td>-0.000139</td>\n",
       "      <td>-0.000992</td>\n",
       "      <td>0.040711</td>\n",
       "      <td>630893.0</td>\n",
       "      <td>7357970.0</td>\n",
       "      <td>0.0</td>\n",
       "    </tr>\n",
       "  </tbody>\n",
       "</table>\n",
       "</div>"
      ],
      "text/plain": [
       "     Time         u         v         w        x1         x2   x3\n",
       "400  40.0 -0.000139 -0.000992  0.040711  630893.0  7357970.0  0.0"
      ]
     },
     "execution_count": 9,
     "metadata": {},
     "output_type": "execute_result"
    }
   ],
   "source": [
    "# need to adjust time due to floating point errors/ rounding\n",
    "df[\"Time\"] = np.linspace(0, 179.9, 1800)\n",
    "df.loc[df['Time'] == 40.0]"
   ]
  },
  {
   "cell_type": "markdown",
   "id": "0640af1b",
   "metadata": {},
   "source": [
    "# Stack"
   ]
  },
  {
   "cell_type": "code",
   "execution_count": 10,
   "id": "4e5371b8",
   "metadata": {},
   "outputs": [],
   "source": [
    "files = glob.glob(os.path.join(directory, \"HFFZ_fullycp-receiver*.dat\"))"
   ]
  },
  {
   "cell_type": "code",
   "execution_count": 31,
   "id": "743158a3",
   "metadata": {},
   "outputs": [],
   "source": [
    "for f in files:\n",
    "    frame = pd.read_csv(f, skiprows=5, sep='\\s+', names=column_names)\n",
    "    frame.drop(columns=[\"xx\",\"yy\",\"zz\",\"xy\",\"yz\",\"xz\"], inplace=True)\n",
    "    coords = pd.read_csv(f, nrows=3, skiprows=2, header=None, sep=\"\\s+\")\n",
    "    x1 = coords[2][0]\n",
    "    x2 = coords[2][1]\n",
    "    x3 = coords[2][2]\n",
    "    frame[\"x1\"]=x1\n",
    "    frame[\"x2\"]=x2\n",
    "    frame[\"x3\"]=x3\n",
    "    if (files[0]==f):\n",
    "        stack = frame.loc[df['Time'] == 20.0]\n",
    "    else:\n",
    "        stack = pd.concat([stack, frame.loc[df['Time'] == 20.0]])"
   ]
  },
  {
   "cell_type": "code",
   "execution_count": 32,
   "id": "f5eedc15",
   "metadata": {},
   "outputs": [],
   "source": [
    "stack.sort_values(by=\"x1\", inplace=True)"
   ]
  },
  {
   "cell_type": "code",
   "execution_count": 33,
   "id": "82550c7f",
   "metadata": {},
   "outputs": [
    {
     "data": {
      "text/plain": [
       "[<matplotlib.lines.Line2D at 0x7fcac71bd7c0>]"
      ]
     },
     "execution_count": 33,
     "metadata": {},
     "output_type": "execute_result"
    },
    {
     "data": {
      "image/png": "[encoded data removed]",
      "text/plain": [
       "<Figure size 432x288 with 1 Axes>"
      ]
     },
     "metadata": {
      "needs_background": "light"
     },
     "output_type": "display_data"
    }
   ],
   "source": [
    "plt.plot(stack.x1,stack.x2,'o')"
   ]
  },
  {
   "cell_type": "code",
   "execution_count": 34,
   "id": "a86eb3b0",
   "metadata": {},
   "outputs": [
    {
     "data": {
      "image/png": "[encoded data removed]",
      "text/plain": [
       "<Figure size 432x288 with 2 Axes>"
      ]
     },
     "metadata": {
      "needs_background": "light"
     },
     "output_type": "display_data"
    }
   ],
   "source": [
    "sc = plt.scatter(stack.x1,stack.x2, c=stack.w, vmin=-0.6, vmax=0.6, s=40, cmap=cm.cork)\n",
    "plt.colorbar(sc)\n",
    "plt.show()"
   ]
  },
  {
   "cell_type": "code",
   "execution_count": null,
   "id": "109cddeb",
   "metadata": {},
   "outputs": [],
   "source": []
  }
 ],
 "metadata": {
  "kernelspec": {
   "display_name": "Python 3 (ipykernel)",
   "language": "python",
   "name": "python3"
  },
  "language_info": {
   "codemirror_mode": {
    "name": "ipython",
    "version": 3
   },
   "file_extension": ".py",
   "mimetype": "text/x-python",
   "name": "python",
   "nbconvert_exporter": "python",
   "pygments_lexer": "ipython3",
   "version": "3.9.7"
  }
 },
 "nbformat": 4,
 "nbformat_minor": 5
}
