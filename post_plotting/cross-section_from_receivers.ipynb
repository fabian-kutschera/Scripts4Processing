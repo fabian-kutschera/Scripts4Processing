{
 "cells": [
  {
   "cell_type": "code",
   "execution_count": 233,
   "id": "7dfb5f10",
   "metadata": {},
   "outputs": [],
   "source": [
    "import pandas as pd\n",
    "import matplotlib.pyplot as plt\n",
    "import numpy as np\n",
    "import glob\n",
    "import os"
   ]
  },
  {
   "cell_type": "code",
   "execution_count": 170,
   "id": "51166cce",
   "metadata": {},
   "outputs": [],
   "source": [
    "directory = \"/import/freenas-m-04-students/fkutschera/simulations/HFFZ_fullycp_o5_180s/\"\n",
    "#file = \"HFFZ_fullycp-receiver-00039-00031.dat\"\n",
    "#file = \"HFFZ_fullycp-receiver-00116-00014.dat\"\n",
    "file = \"HFFZ_fullycp-receiver-00164-00011.dat\""
   ]
  },
  {
   "cell_type": "code",
   "execution_count": 171,
   "id": "28a367d4",
   "metadata": {},
   "outputs": [],
   "source": [
    "column_names = [\"Time\",\"xx\",\"yy\",\"zz\",\"xy\",\"yz\",\"xz\",\"u\",\"v\",\"w\"]"
   ]
  },
  {
   "cell_type": "code",
   "execution_count": 172,
   "id": "10552f9e",
   "metadata": {},
   "outputs": [
    {
     "data": {
      "text/html": [
       "<div>\n",
       "<style scoped>\n",
       "    .dataframe tbody tr th:only-of-type {\n",
       "        vertical-align: middle;\n",
       "    }\n",
       "\n",
       "    .dataframe tbody tr th {\n",
       "        vertical-align: top;\n",
       "    }\n",
       "\n",
       "    .dataframe thead th {\n",
       "        text-align: right;\n",
       "    }\n",
       "</style>\n",
       "<table border=\"1\" class=\"dataframe\">\n",
       "  <thead>\n",
       "    <tr style=\"text-align: right;\">\n",
       "      <th></th>\n",
       "      <th>Time</th>\n",
       "      <th>u</th>\n",
       "      <th>v</th>\n",
       "      <th>w</th>\n",
       "    </tr>\n",
       "  </thead>\n",
       "  <tbody>\n",
       "    <tr>\n",
       "      <th>0</th>\n",
       "      <td>0.0</td>\n",
       "      <td>0.000000e+00</td>\n",
       "      <td>0.000000e+00</td>\n",
       "      <td>0.000000e+00</td>\n",
       "    </tr>\n",
       "    <tr>\n",
       "      <th>1</th>\n",
       "      <td>0.1</td>\n",
       "      <td>0.000000e+00</td>\n",
       "      <td>0.000000e+00</td>\n",
       "      <td>0.000000e+00</td>\n",
       "    </tr>\n",
       "    <tr>\n",
       "      <th>2</th>\n",
       "      <td>0.2</td>\n",
       "      <td>0.000000e+00</td>\n",
       "      <td>0.000000e+00</td>\n",
       "      <td>0.000000e+00</td>\n",
       "    </tr>\n",
       "    <tr>\n",
       "      <th>3</th>\n",
       "      <td>0.3</td>\n",
       "      <td>1.658069e-132</td>\n",
       "      <td>5.827383e-132</td>\n",
       "      <td>-1.062238e-131</td>\n",
       "    </tr>\n",
       "    <tr>\n",
       "      <th>4</th>\n",
       "      <td>0.4</td>\n",
       "      <td>6.498836e-97</td>\n",
       "      <td>2.962924e-96</td>\n",
       "      <td>-1.470703e-96</td>\n",
       "    </tr>\n",
       "  </tbody>\n",
       "</table>\n",
       "</div>"
      ],
      "text/plain": [
       "   Time              u              v              w\n",
       "0   0.0   0.000000e+00   0.000000e+00   0.000000e+00\n",
       "1   0.1   0.000000e+00   0.000000e+00   0.000000e+00\n",
       "2   0.2   0.000000e+00   0.000000e+00   0.000000e+00\n",
       "3   0.3  1.658069e-132  5.827383e-132 -1.062238e-131\n",
       "4   0.4   6.498836e-97   2.962924e-96  -1.470703e-96"
      ]
     },
     "execution_count": 172,
     "metadata": {},
     "output_type": "execute_result"
    }
   ],
   "source": [
    "df = pd.read_csv(directory+file, skiprows=5, sep='\\s+', names=column_names)\n",
    "df.drop(columns=[\"xx\",\"yy\",\"zz\",\"xy\",\"yz\",\"xz\"], inplace=True)\n",
    "df.head()"
   ]
  },
  {
   "cell_type": "code",
   "execution_count": 173,
   "id": "f4cb06ee",
   "metadata": {},
   "outputs": [],
   "source": [
    "coords = pd.read_csv(directory+file, nrows=3, skiprows=2, header=None, sep=\"\\s+\") #names=[\"x1\", \"x2\", \"x3\"]\n",
    "x1 = coords[2][0]\n",
    "x2 = coords[2][1]\n",
    "x3 = coords[2][2]"
   ]
  },
  {
   "cell_type": "code",
   "execution_count": 174,
   "id": "372e4019",
   "metadata": {},
   "outputs": [
    {
     "data": {
      "text/html": [
       "<div>\n",
       "<style scoped>\n",
       "    .dataframe tbody tr th:only-of-type {\n",
       "        vertical-align: middle;\n",
       "    }\n",
       "\n",
       "    .dataframe tbody tr th {\n",
       "        vertical-align: top;\n",
       "    }\n",
       "\n",
       "    .dataframe thead th {\n",
       "        text-align: right;\n",
       "    }\n",
       "</style>\n",
       "<table border=\"1\" class=\"dataframe\">\n",
       "  <thead>\n",
       "    <tr style=\"text-align: right;\">\n",
       "      <th></th>\n",
       "      <th>Time</th>\n",
       "      <th>u</th>\n",
       "      <th>v</th>\n",
       "      <th>w</th>\n",
       "      <th>x1</th>\n",
       "      <th>x2</th>\n",
       "      <th>x3</th>\n",
       "    </tr>\n",
       "  </thead>\n",
       "  <tbody>\n",
       "    <tr>\n",
       "      <th>0</th>\n",
       "      <td>0.0</td>\n",
       "      <td>0.000000e+00</td>\n",
       "      <td>0.000000e+00</td>\n",
       "      <td>0.000000e+00</td>\n",
       "      <td>630893.0</td>\n",
       "      <td>7357970.0</td>\n",
       "      <td>0.0</td>\n",
       "    </tr>\n",
       "    <tr>\n",
       "      <th>1</th>\n",
       "      <td>0.1</td>\n",
       "      <td>0.000000e+00</td>\n",
       "      <td>0.000000e+00</td>\n",
       "      <td>0.000000e+00</td>\n",
       "      <td>630893.0</td>\n",
       "      <td>7357970.0</td>\n",
       "      <td>0.0</td>\n",
       "    </tr>\n",
       "    <tr>\n",
       "      <th>2</th>\n",
       "      <td>0.2</td>\n",
       "      <td>0.000000e+00</td>\n",
       "      <td>0.000000e+00</td>\n",
       "      <td>0.000000e+00</td>\n",
       "      <td>630893.0</td>\n",
       "      <td>7357970.0</td>\n",
       "      <td>0.0</td>\n",
       "    </tr>\n",
       "    <tr>\n",
       "      <th>3</th>\n",
       "      <td>0.3</td>\n",
       "      <td>1.658069e-132</td>\n",
       "      <td>5.827383e-132</td>\n",
       "      <td>-1.062238e-131</td>\n",
       "      <td>630893.0</td>\n",
       "      <td>7357970.0</td>\n",
       "      <td>0.0</td>\n",
       "    </tr>\n",
       "    <tr>\n",
       "      <th>4</th>\n",
       "      <td>0.4</td>\n",
       "      <td>6.498836e-97</td>\n",
       "      <td>2.962924e-96</td>\n",
       "      <td>-1.470703e-96</td>\n",
       "      <td>630893.0</td>\n",
       "      <td>7357970.0</td>\n",
       "      <td>0.0</td>\n",
       "    </tr>\n",
       "  </tbody>\n",
       "</table>\n",
       "</div>"
      ],
      "text/plain": [
       "   Time              u              v              w        x1         x2   x3\n",
       "0   0.0   0.000000e+00   0.000000e+00   0.000000e+00  630893.0  7357970.0  0.0\n",
       "1   0.1   0.000000e+00   0.000000e+00   0.000000e+00  630893.0  7357970.0  0.0\n",
       "2   0.2   0.000000e+00   0.000000e+00   0.000000e+00  630893.0  7357970.0  0.0\n",
       "3   0.3  1.658069e-132  5.827383e-132 -1.062238e-131  630893.0  7357970.0  0.0\n",
       "4   0.4   6.498836e-97   2.962924e-96  -1.470703e-96  630893.0  7357970.0  0.0"
      ]
     },
     "execution_count": 174,
     "metadata": {},
     "output_type": "execute_result"
    }
   ],
   "source": [
    "df[\"x1\"]=x1\n",
    "df[\"x2\"]=x2\n",
    "df[\"x3\"]=x3\n",
    "df.head()"
   ]
  },
  {
   "cell_type": "code",
   "execution_count": 175,
   "id": "3a070700",
   "metadata": {},
   "outputs": [
    {
     "data": {
      "text/plain": [
       "[<matplotlib.lines.Line2D at 0x7f43a0a3b910>]"
      ]
     },
     "execution_count": 175,
     "metadata": {},
     "output_type": "execute_result"
    },
    {
     "data": {
      "image/png": "[encoded data removed]",
      "text/plain": [
       "<Figure size 432x288 with 1 Axes>"
      ]
     },
     "metadata": {
      "needs_background": "light"
     },
     "output_type": "display_data"
    }
   ],
   "source": [
    "plt.plot(df.Time,df.w)"
   ]
  },
  {
   "cell_type": "code",
   "execution_count": 176,
   "id": "c6604005",
   "metadata": {},
   "outputs": [
    {
     "data": {
      "text/html": [
       "<div>\n",
       "<style scoped>\n",
       "    .dataframe tbody tr th:only-of-type {\n",
       "        vertical-align: middle;\n",
       "    }\n",
       "\n",
       "    .dataframe tbody tr th {\n",
       "        vertical-align: top;\n",
       "    }\n",
       "\n",
       "    .dataframe thead th {\n",
       "        text-align: right;\n",
       "    }\n",
       "</style>\n",
       "<table border=\"1\" class=\"dataframe\">\n",
       "  <thead>\n",
       "    <tr style=\"text-align: right;\">\n",
       "      <th></th>\n",
       "      <th>Time</th>\n",
       "      <th>u</th>\n",
       "      <th>v</th>\n",
       "      <th>w</th>\n",
       "      <th>x1</th>\n",
       "      <th>x2</th>\n",
       "      <th>x3</th>\n",
       "    </tr>\n",
       "  </thead>\n",
       "  <tbody>\n",
       "    <tr>\n",
       "      <th>0</th>\n",
       "      <td>0.0</td>\n",
       "      <td>0.000000e+00</td>\n",
       "      <td>0.000000e+00</td>\n",
       "      <td>0.000000e+00</td>\n",
       "      <td>630893.0</td>\n",
       "      <td>7357970.0</td>\n",
       "      <td>0.0</td>\n",
       "    </tr>\n",
       "    <tr>\n",
       "      <th>1</th>\n",
       "      <td>0.1</td>\n",
       "      <td>0.000000e+00</td>\n",
       "      <td>0.000000e+00</td>\n",
       "      <td>0.000000e+00</td>\n",
       "      <td>630893.0</td>\n",
       "      <td>7357970.0</td>\n",
       "      <td>0.0</td>\n",
       "    </tr>\n",
       "    <tr>\n",
       "      <th>2</th>\n",
       "      <td>0.2</td>\n",
       "      <td>0.000000e+00</td>\n",
       "      <td>0.000000e+00</td>\n",
       "      <td>0.000000e+00</td>\n",
       "      <td>630893.0</td>\n",
       "      <td>7357970.0</td>\n",
       "      <td>0.0</td>\n",
       "    </tr>\n",
       "    <tr>\n",
       "      <th>3</th>\n",
       "      <td>0.3</td>\n",
       "      <td>1.658069e-132</td>\n",
       "      <td>5.827383e-132</td>\n",
       "      <td>-1.062238e-131</td>\n",
       "      <td>630893.0</td>\n",
       "      <td>7357970.0</td>\n",
       "      <td>0.0</td>\n",
       "    </tr>\n",
       "    <tr>\n",
       "      <th>4</th>\n",
       "      <td>0.4</td>\n",
       "      <td>6.498836e-97</td>\n",
       "      <td>2.962924e-96</td>\n",
       "      <td>-1.470703e-96</td>\n",
       "      <td>630893.0</td>\n",
       "      <td>7357970.0</td>\n",
       "      <td>0.0</td>\n",
       "    </tr>\n",
       "  </tbody>\n",
       "</table>\n",
       "</div>"
      ],
      "text/plain": [
       "   Time              u              v              w        x1         x2   x3\n",
       "0   0.0   0.000000e+00   0.000000e+00   0.000000e+00  630893.0  7357970.0  0.0\n",
       "1   0.1   0.000000e+00   0.000000e+00   0.000000e+00  630893.0  7357970.0  0.0\n",
       "2   0.2   0.000000e+00   0.000000e+00   0.000000e+00  630893.0  7357970.0  0.0\n",
       "3   0.3  1.658069e-132  5.827383e-132 -1.062238e-131  630893.0  7357970.0  0.0\n",
       "4   0.4   6.498836e-97   2.962924e-96  -1.470703e-96  630893.0  7357970.0  0.0"
      ]
     },
     "execution_count": 176,
     "metadata": {},
     "output_type": "execute_result"
    }
   ],
   "source": [
    "af = df\n",
    "af.head()"
   ]
  },
  {
   "cell_type": "code",
   "execution_count": 177,
   "id": "4904691c",
   "metadata": {},
   "outputs": [
    {
     "data": {
      "text/html": [
       "<div>\n",
       "<style scoped>\n",
       "    .dataframe tbody tr th:only-of-type {\n",
       "        vertical-align: middle;\n",
       "    }\n",
       "\n",
       "    .dataframe tbody tr th {\n",
       "        vertical-align: top;\n",
       "    }\n",
       "\n",
       "    .dataframe thead th {\n",
       "        text-align: right;\n",
       "    }\n",
       "</style>\n",
       "<table border=\"1\" class=\"dataframe\">\n",
       "  <thead>\n",
       "    <tr style=\"text-align: right;\">\n",
       "      <th></th>\n",
       "      <th>Time</th>\n",
       "      <th>u</th>\n",
       "      <th>v</th>\n",
       "      <th>w</th>\n",
       "      <th>x1</th>\n",
       "      <th>x2</th>\n",
       "      <th>x3</th>\n",
       "    </tr>\n",
       "  </thead>\n",
       "  <tbody>\n",
       "    <tr>\n",
       "      <th>400</th>\n",
       "      <td>40.0</td>\n",
       "      <td>-0.000139</td>\n",
       "      <td>-0.000992</td>\n",
       "      <td>0.040711</td>\n",
       "      <td>630893.0</td>\n",
       "      <td>7357970.0</td>\n",
       "      <td>0.0</td>\n",
       "    </tr>\n",
       "  </tbody>\n",
       "</table>\n",
       "</div>"
      ],
      "text/plain": [
       "     Time         u         v         w        x1         x2   x3\n",
       "400  40.0 -0.000139 -0.000992  0.040711  630893.0  7357970.0  0.0"
      ]
     },
     "execution_count": 177,
     "metadata": {},
     "output_type": "execute_result"
    }
   ],
   "source": [
    "# need to adjust time due to floating point errors/ rounding\n",
    "df[\"Time\"] = np.linspace(0, 179.9, 1800)\n",
    "df.loc[df['Time'] == 40.0]"
   ]
  },
  {
   "cell_type": "code",
   "execution_count": 181,
   "id": "36854c23",
   "metadata": {},
   "outputs": [
    {
     "name": "stdout",
     "output_type": "stream",
     "text": [
      "36\n"
     ]
    }
   ],
   "source": [
    "for i in range (36,37):\n",
    "    print(i)"
   ]
  },
  {
   "cell_type": "code",
   "execution_count": 230,
   "id": "cc4f39e0",
   "metadata": {},
   "outputs": [
    {
     "name": "stdout",
     "output_type": "stream",
     "text": [
      "625454.0\n",
      "625565.0\n",
      "625676.0\n"
     ]
    }
   ],
   "source": [
    "# Attempt of for loop\n",
    "for i in range (115,118):\n",
    "    ndir = directory+\"HFFZ_fullycp-receiver-00{}-00014.dat\".format(i)\n",
    "    frame = pd.read_csv(ndir, skiprows=5, sep='\\s+', names=column_names)\n",
    "    frame.drop(columns=[\"xx\",\"yy\",\"zz\",\"xy\",\"yz\",\"xz\"], inplace=True)\n",
    "    coords = pd.read_csv(ndir, nrows=3, skiprows=2, header=None, sep=\"\\s+\")\n",
    "    x1 = coords[2][0]\n",
    "    x2 = coords[2][1]\n",
    "    x3 = coords[2][2]\n",
    "    frame[\"x1\"]=x1\n",
    "    frame[\"x2\"]=x2\n",
    "    frame[\"x3\"]=x3\n",
    "    print(x1)\n",
    "    if (i==115):\n",
    "        stack = frame.loc[df['Time'] == 40.0]\n",
    "    else:\n",
    "        stack = pd.concat([stack, frame.loc[df['Time'] == 40.0]])"
   ]
  },
  {
   "cell_type": "code",
   "execution_count": 231,
   "id": "78c816d3",
   "metadata": {},
   "outputs": [
    {
     "data": {
      "text/html": [
       "<div>\n",
       "<style scoped>\n",
       "    .dataframe tbody tr th:only-of-type {\n",
       "        vertical-align: middle;\n",
       "    }\n",
       "\n",
       "    .dataframe tbody tr th {\n",
       "        vertical-align: top;\n",
       "    }\n",
       "\n",
       "    .dataframe thead th {\n",
       "        text-align: right;\n",
       "    }\n",
       "</style>\n",
       "<table border=\"1\" class=\"dataframe\">\n",
       "  <thead>\n",
       "    <tr style=\"text-align: right;\">\n",
       "      <th></th>\n",
       "      <th>Time</th>\n",
       "      <th>u</th>\n",
       "      <th>v</th>\n",
       "      <th>w</th>\n",
       "      <th>x1</th>\n",
       "      <th>x2</th>\n",
       "      <th>x3</th>\n",
       "    </tr>\n",
       "  </thead>\n",
       "  <tbody>\n",
       "    <tr>\n",
       "      <th>400</th>\n",
       "      <td>40.0</td>\n",
       "      <td>-0.015607</td>\n",
       "      <td>-0.029810</td>\n",
       "      <td>0.001879</td>\n",
       "      <td>625454.0</td>\n",
       "      <td>7348660.0</td>\n",
       "      <td>0.0</td>\n",
       "    </tr>\n",
       "    <tr>\n",
       "      <th>400</th>\n",
       "      <td>40.0</td>\n",
       "      <td>-0.014094</td>\n",
       "      <td>-0.027315</td>\n",
       "      <td>0.011928</td>\n",
       "      <td>625565.0</td>\n",
       "      <td>7348850.0</td>\n",
       "      <td>0.0</td>\n",
       "    </tr>\n",
       "    <tr>\n",
       "      <th>400</th>\n",
       "      <td>40.0</td>\n",
       "      <td>-0.012441</td>\n",
       "      <td>-0.025009</td>\n",
       "      <td>0.017676</td>\n",
       "      <td>625676.0</td>\n",
       "      <td>7349040.0</td>\n",
       "      <td>0.0</td>\n",
       "    </tr>\n",
       "  </tbody>\n",
       "</table>\n",
       "</div>"
      ],
      "text/plain": [
       "     Time         u         v         w        x1         x2   x3\n",
       "400  40.0 -0.015607 -0.029810  0.001879  625454.0  7348660.0  0.0\n",
       "400  40.0 -0.014094 -0.027315  0.011928  625565.0  7348850.0  0.0\n",
       "400  40.0 -0.012441 -0.025009  0.017676  625676.0  7349040.0  0.0"
      ]
     },
     "execution_count": 231,
     "metadata": {},
     "output_type": "execute_result"
    }
   ],
   "source": [
    "stack"
   ]
  },
  {
   "cell_type": "code",
   "execution_count": 236,
   "id": "4e5371b8",
   "metadata": {},
   "outputs": [],
   "source": [
    "files = glob.glob(os.path.join(directory, \"HFFZ_fullycp-receiver*.dat\"))"
   ]
  },
  {
   "cell_type": "code",
   "execution_count": 238,
   "id": "743158a3",
   "metadata": {},
   "outputs": [],
   "source": [
    "for f in files:\n",
    "    frame = pd.read_csv(f, skiprows=5, sep='\\s+', names=column_names)\n",
    "    frame.drop(columns=[\"xx\",\"yy\",\"zz\",\"xy\",\"yz\",\"xz\"], inplace=True)\n",
    "    coords = pd.read_csv(f, nrows=3, skiprows=2, header=None, sep=\"\\s+\")\n",
    "    x1 = coords[2][0]\n",
    "    x2 = coords[2][1]\n",
    "    x3 = coords[2][2]\n",
    "    frame[\"x1\"]=x1\n",
    "    frame[\"x2\"]=x2\n",
    "    frame[\"x3\"]=x3\n",
    "    if (i==115):\n",
    "        stack = frame.loc[df['Time'] == 40.0]\n",
    "    else:\n",
    "        stack = pd.concat([stack, frame.loc[df['Time'] == 40.0]])"
   ]
  },
  {
   "cell_type": "code",
   "execution_count": 239,
   "id": "f5eedc15",
   "metadata": {},
   "outputs": [
    {
     "data": {
      "text/html": [
       "<div>\n",
       "<style scoped>\n",
       "    .dataframe tbody tr th:only-of-type {\n",
       "        vertical-align: middle;\n",
       "    }\n",
       "\n",
       "    .dataframe tbody tr th {\n",
       "        vertical-align: top;\n",
       "    }\n",
       "\n",
       "    .dataframe thead th {\n",
       "        text-align: right;\n",
       "    }\n",
       "</style>\n",
       "<table border=\"1\" class=\"dataframe\">\n",
       "  <thead>\n",
       "    <tr style=\"text-align: right;\">\n",
       "      <th></th>\n",
       "      <th>Time</th>\n",
       "      <th>u</th>\n",
       "      <th>v</th>\n",
       "      <th>w</th>\n",
       "      <th>x1</th>\n",
       "      <th>x2</th>\n",
       "      <th>x3</th>\n",
       "    </tr>\n",
       "  </thead>\n",
       "  <tbody>\n",
       "    <tr>\n",
       "      <th>400</th>\n",
       "      <td>40.0</td>\n",
       "      <td>-0.015607</td>\n",
       "      <td>-0.029810</td>\n",
       "      <td>0.001879</td>\n",
       "      <td>625454.0</td>\n",
       "      <td>7348660.0</td>\n",
       "      <td>0.0</td>\n",
       "    </tr>\n",
       "    <tr>\n",
       "      <th>400</th>\n",
       "      <td>40.0</td>\n",
       "      <td>-0.014094</td>\n",
       "      <td>-0.027315</td>\n",
       "      <td>0.011928</td>\n",
       "      <td>625565.0</td>\n",
       "      <td>7348850.0</td>\n",
       "      <td>0.0</td>\n",
       "    </tr>\n",
       "    <tr>\n",
       "      <th>400</th>\n",
       "      <td>40.0</td>\n",
       "      <td>-0.012441</td>\n",
       "      <td>-0.025009</td>\n",
       "      <td>0.017676</td>\n",
       "      <td>625676.0</td>\n",
       "      <td>7349040.0</td>\n",
       "      <td>0.0</td>\n",
       "    </tr>\n",
       "    <tr>\n",
       "      <th>400</th>\n",
       "      <td>40.0</td>\n",
       "      <td>-0.000074</td>\n",
       "      <td>-0.000513</td>\n",
       "      <td>0.022183</td>\n",
       "      <td>633668.0</td>\n",
       "      <td>7362720.0</td>\n",
       "      <td>0.0</td>\n",
       "    </tr>\n",
       "    <tr>\n",
       "      <th>400</th>\n",
       "      <td>40.0</td>\n",
       "      <td>-0.001873</td>\n",
       "      <td>-0.000667</td>\n",
       "      <td>0.009030</td>\n",
       "      <td>617018.0</td>\n",
       "      <td>7334220.0</td>\n",
       "      <td>0.0</td>\n",
       "    </tr>\n",
       "    <tr>\n",
       "      <th>...</th>\n",
       "      <td>...</td>\n",
       "      <td>...</td>\n",
       "      <td>...</td>\n",
       "      <td>...</td>\n",
       "      <td>...</td>\n",
       "      <td>...</td>\n",
       "      <td>...</td>\n",
       "    </tr>\n",
       "    <tr>\n",
       "      <th>400</th>\n",
       "      <td>40.0</td>\n",
       "      <td>-0.000689</td>\n",
       "      <td>-0.001304</td>\n",
       "      <td>0.044148</td>\n",
       "      <td>632003.0</td>\n",
       "      <td>7359870.0</td>\n",
       "      <td>0.0</td>\n",
       "    </tr>\n",
       "    <tr>\n",
       "      <th>400</th>\n",
       "      <td>40.0</td>\n",
       "      <td>0.000174</td>\n",
       "      <td>0.000061</td>\n",
       "      <td>-0.002565</td>\n",
       "      <td>634778.0</td>\n",
       "      <td>7364620.0</td>\n",
       "      <td>0.0</td>\n",
       "    </tr>\n",
       "    <tr>\n",
       "      <th>400</th>\n",
       "      <td>40.0</td>\n",
       "      <td>-0.003925</td>\n",
       "      <td>-0.002917</td>\n",
       "      <td>0.011611</td>\n",
       "      <td>619460.0</td>\n",
       "      <td>7338400.0</td>\n",
       "      <td>0.0</td>\n",
       "    </tr>\n",
       "    <tr>\n",
       "      <th>400</th>\n",
       "      <td>40.0</td>\n",
       "      <td>-0.024933</td>\n",
       "      <td>-0.033975</td>\n",
       "      <td>0.029494</td>\n",
       "      <td>623456.0</td>\n",
       "      <td>7345240.0</td>\n",
       "      <td>0.0</td>\n",
       "    </tr>\n",
       "    <tr>\n",
       "      <th>400</th>\n",
       "      <td>40.0</td>\n",
       "      <td>-0.021310</td>\n",
       "      <td>-0.026068</td>\n",
       "      <td>0.028384</td>\n",
       "      <td>623345.0</td>\n",
       "      <td>7345050.0</td>\n",
       "      <td>0.0</td>\n",
       "    </tr>\n",
       "  </tbody>\n",
       "</table>\n",
       "<p>201 rows × 7 columns</p>\n",
       "</div>"
      ],
      "text/plain": [
       "     Time         u         v         w        x1         x2   x3\n",
       "400  40.0 -0.015607 -0.029810  0.001879  625454.0  7348660.0  0.0\n",
       "400  40.0 -0.014094 -0.027315  0.011928  625565.0  7348850.0  0.0\n",
       "400  40.0 -0.012441 -0.025009  0.017676  625676.0  7349040.0  0.0\n",
       "400  40.0 -0.000074 -0.000513  0.022183  633668.0  7362720.0  0.0\n",
       "400  40.0 -0.001873 -0.000667  0.009030  617018.0  7334220.0  0.0\n",
       "..    ...       ...       ...       ...       ...        ...  ...\n",
       "400  40.0 -0.000689 -0.001304  0.044148  632003.0  7359870.0  0.0\n",
       "400  40.0  0.000174  0.000061 -0.002565  634778.0  7364620.0  0.0\n",
       "400  40.0 -0.003925 -0.002917  0.011611  619460.0  7338400.0  0.0\n",
       "400  40.0 -0.024933 -0.033975  0.029494  623456.0  7345240.0  0.0\n",
       "400  40.0 -0.021310 -0.026068  0.028384  623345.0  7345050.0  0.0\n",
       "\n",
       "[201 rows x 7 columns]"
      ]
     },
     "execution_count": 239,
     "metadata": {},
     "output_type": "execute_result"
    }
   ],
   "source": [
    "stack"
   ]
  },
  {
   "cell_type": "code",
   "execution_count": 242,
   "id": "82550c7f",
   "metadata": {},
   "outputs": [
    {
     "data": {
      "text/plain": [
       "[<matplotlib.lines.Line2D at 0x7f436df5e250>]"
      ]
     },
     "execution_count": 242,
     "metadata": {},
     "output_type": "execute_result"
    },
    {
     "data": {
      "image/png": "[encoded data removed]",
      "text/plain": [
       "<Figure size 432x288 with 1 Axes>"
      ]
     },
     "metadata": {
      "needs_background": "light"
     },
     "output_type": "display_data"
    }
   ],
   "source": [
    "plt.plot(stack.x1,stack.x2)"
   ]
  },
  {
   "cell_type": "code",
   "execution_count": null,
   "id": "a86eb3b0",
   "metadata": {},
   "outputs": [],
   "source": []
  }
 ],
 "metadata": {
  "kernelspec": {
   "display_name": "Python 3 (ipykernel)",
   "language": "python",
   "name": "python3"
  },
  "language_info": {
   "codemirror_mode": {
    "name": "ipython",
    "version": 3
   },
   "file_extension": ".py",
   "mimetype": "text/x-python",
   "name": "python",
   "nbconvert_exporter": "python",
   "pygments_lexer": "ipython3",
   "version": "3.9.7"
  }
 },
 "nbformat": 4,
 "nbformat_minor": 5
}
