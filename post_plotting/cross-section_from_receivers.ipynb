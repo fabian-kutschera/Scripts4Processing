{
 "cells": [
  {
   "cell_type": "code",
   "execution_count": 55,
   "id": "7dfb5f10",
   "metadata": {},
   "outputs": [],
   "source": [
    "import pandas as pd\n",
    "import matplotlib.pyplot as plt\n",
    "import numpy as np\n",
    "import glob\n",
    "import os\n",
    "from cmcrameri import cm"
   ]
  },
  {
   "cell_type": "code",
   "execution_count": 56,
   "id": "51166cce",
   "metadata": {},
   "outputs": [],
   "source": [
    "#directory = \"/import/freenas-m-04-students/fkutschera/simulations/HFFZ_fullycp_o5_180s/\"\n",
    "directory = \"/import/freenas-m-04-students/fkutschera/simulations/HFFZ_fullycp_o5_180s_II/\"\n",
    "#file = \"HFFZ_fullycp-receiver-00039-00031.dat\"\n",
    "#file = \"HFFZ_fullycp-receiver-00116-00014.dat\"\n",
    "#file = \"HFFZ_fullycp-receiver-00164-00011.dat\"\n",
    "file = \"HFFZ_full-receiver-00483-00008.dat\""
   ]
  },
  {
   "cell_type": "code",
   "execution_count": 57,
   "id": "28a367d4",
   "metadata": {},
   "outputs": [],
   "source": [
    "column_names = [\"Time\",\"xx\",\"yy\",\"zz\",\"xy\",\"yz\",\"xz\",\"u\",\"v\",\"w\"]"
   ]
  },
  {
   "cell_type": "code",
   "execution_count": 58,
   "id": "10552f9e",
   "metadata": {},
   "outputs": [
    {
     "data": {
      "text/html": [
       "<div>\n",
       "<style scoped>\n",
       "    .dataframe tbody tr th:only-of-type {\n",
       "        vertical-align: middle;\n",
       "    }\n",
       "\n",
       "    .dataframe tbody tr th {\n",
       "        vertical-align: top;\n",
       "    }\n",
       "\n",
       "    .dataframe thead th {\n",
       "        text-align: right;\n",
       "    }\n",
       "</style>\n",
       "<table border=\"1\" class=\"dataframe\">\n",
       "  <thead>\n",
       "    <tr style=\"text-align: right;\">\n",
       "      <th></th>\n",
       "      <th>Time</th>\n",
       "      <th>u</th>\n",
       "      <th>v</th>\n",
       "      <th>w</th>\n",
       "    </tr>\n",
       "  </thead>\n",
       "  <tbody>\n",
       "    <tr>\n",
       "      <th>0</th>\n",
       "      <td>0.0</td>\n",
       "      <td>0.000000e+00</td>\n",
       "      <td>0.000000e+00</td>\n",
       "      <td>0.000000e+00</td>\n",
       "    </tr>\n",
       "    <tr>\n",
       "      <th>1</th>\n",
       "      <td>0.1</td>\n",
       "      <td>0.000000e+00</td>\n",
       "      <td>0.000000e+00</td>\n",
       "      <td>0.000000e+00</td>\n",
       "    </tr>\n",
       "    <tr>\n",
       "      <th>2</th>\n",
       "      <td>0.2</td>\n",
       "      <td>0.000000e+00</td>\n",
       "      <td>0.000000e+00</td>\n",
       "      <td>0.000000e+00</td>\n",
       "    </tr>\n",
       "    <tr>\n",
       "      <th>3</th>\n",
       "      <td>0.3</td>\n",
       "      <td>-2.359903e-133</td>\n",
       "      <td>6.971712e-134</td>\n",
       "      <td>1.713360e-133</td>\n",
       "    </tr>\n",
       "    <tr>\n",
       "      <th>4</th>\n",
       "      <td>0.4</td>\n",
       "      <td>-1.473553e-95</td>\n",
       "      <td>1.093060e-95</td>\n",
       "      <td>1.121700e-95</td>\n",
       "    </tr>\n",
       "  </tbody>\n",
       "</table>\n",
       "</div>"
      ],
      "text/plain": [
       "   Time              u              v              w\n",
       "0   0.0   0.000000e+00   0.000000e+00   0.000000e+00\n",
       "1   0.1   0.000000e+00   0.000000e+00   0.000000e+00\n",
       "2   0.2   0.000000e+00   0.000000e+00   0.000000e+00\n",
       "3   0.3 -2.359903e-133  6.971712e-134  1.713360e-133\n",
       "4   0.4  -1.473553e-95   1.093060e-95   1.121700e-95"
      ]
     },
     "execution_count": 58,
     "metadata": {},
     "output_type": "execute_result"
    }
   ],
   "source": [
    "df = pd.read_csv(directory+file, skiprows=5, sep='\\s+', names=column_names)\n",
    "df.drop(columns=[\"xx\",\"yy\",\"zz\",\"xy\",\"yz\",\"xz\"], inplace=True)\n",
    "df.head()"
   ]
  },
  {
   "cell_type": "code",
   "execution_count": 59,
   "id": "f4cb06ee",
   "metadata": {},
   "outputs": [],
   "source": [
    "coords = pd.read_csv(directory+file, nrows=3, skiprows=2, header=None, sep=\"\\s+\") #names=[\"x1\", \"x2\", \"x3\"]\n",
    "x1 = coords[2][0]\n",
    "x2 = coords[2][1]\n",
    "x3 = coords[2][2]"
   ]
  },
  {
   "cell_type": "code",
   "execution_count": 60,
   "id": "372e4019",
   "metadata": {},
   "outputs": [
    {
     "data": {
      "text/html": [
       "<div>\n",
       "<style scoped>\n",
       "    .dataframe tbody tr th:only-of-type {\n",
       "        vertical-align: middle;\n",
       "    }\n",
       "\n",
       "    .dataframe tbody tr th {\n",
       "        vertical-align: top;\n",
       "    }\n",
       "\n",
       "    .dataframe thead th {\n",
       "        text-align: right;\n",
       "    }\n",
       "</style>\n",
       "<table border=\"1\" class=\"dataframe\">\n",
       "  <thead>\n",
       "    <tr style=\"text-align: right;\">\n",
       "      <th></th>\n",
       "      <th>Time</th>\n",
       "      <th>u</th>\n",
       "      <th>v</th>\n",
       "      <th>w</th>\n",
       "      <th>x1</th>\n",
       "      <th>x2</th>\n",
       "      <th>x3</th>\n",
       "    </tr>\n",
       "  </thead>\n",
       "  <tbody>\n",
       "    <tr>\n",
       "      <th>0</th>\n",
       "      <td>0.0</td>\n",
       "      <td>0.000000e+00</td>\n",
       "      <td>0.000000e+00</td>\n",
       "      <td>0.000000e+00</td>\n",
       "      <td>623500.4</td>\n",
       "      <td>7345316.0</td>\n",
       "      <td>-0.1</td>\n",
       "    </tr>\n",
       "    <tr>\n",
       "      <th>1</th>\n",
       "      <td>0.1</td>\n",
       "      <td>0.000000e+00</td>\n",
       "      <td>0.000000e+00</td>\n",
       "      <td>0.000000e+00</td>\n",
       "      <td>623500.4</td>\n",
       "      <td>7345316.0</td>\n",
       "      <td>-0.1</td>\n",
       "    </tr>\n",
       "    <tr>\n",
       "      <th>2</th>\n",
       "      <td>0.2</td>\n",
       "      <td>0.000000e+00</td>\n",
       "      <td>0.000000e+00</td>\n",
       "      <td>0.000000e+00</td>\n",
       "      <td>623500.4</td>\n",
       "      <td>7345316.0</td>\n",
       "      <td>-0.1</td>\n",
       "    </tr>\n",
       "    <tr>\n",
       "      <th>3</th>\n",
       "      <td>0.3</td>\n",
       "      <td>-2.359903e-133</td>\n",
       "      <td>6.971712e-134</td>\n",
       "      <td>1.713360e-133</td>\n",
       "      <td>623500.4</td>\n",
       "      <td>7345316.0</td>\n",
       "      <td>-0.1</td>\n",
       "    </tr>\n",
       "    <tr>\n",
       "      <th>4</th>\n",
       "      <td>0.4</td>\n",
       "      <td>-1.473553e-95</td>\n",
       "      <td>1.093060e-95</td>\n",
       "      <td>1.121700e-95</td>\n",
       "      <td>623500.4</td>\n",
       "      <td>7345316.0</td>\n",
       "      <td>-0.1</td>\n",
       "    </tr>\n",
       "  </tbody>\n",
       "</table>\n",
       "</div>"
      ],
      "text/plain": [
       "   Time              u              v              w        x1         x2   x3\n",
       "0   0.0   0.000000e+00   0.000000e+00   0.000000e+00  623500.4  7345316.0 -0.1\n",
       "1   0.1   0.000000e+00   0.000000e+00   0.000000e+00  623500.4  7345316.0 -0.1\n",
       "2   0.2   0.000000e+00   0.000000e+00   0.000000e+00  623500.4  7345316.0 -0.1\n",
       "3   0.3 -2.359903e-133  6.971712e-134  1.713360e-133  623500.4  7345316.0 -0.1\n",
       "4   0.4  -1.473553e-95   1.093060e-95   1.121700e-95  623500.4  7345316.0 -0.1"
      ]
     },
     "execution_count": 60,
     "metadata": {},
     "output_type": "execute_result"
    }
   ],
   "source": [
    "df[\"x1\"]=x1\n",
    "df[\"x2\"]=x2\n",
    "df[\"x3\"]=x3\n",
    "df.head()"
   ]
  },
  {
   "cell_type": "code",
   "execution_count": 61,
   "id": "3a070700",
   "metadata": {},
   "outputs": [
    {
     "data": {
      "text/plain": [
       "[<matplotlib.lines.Line2D at 0x7ff7a0089580>]"
      ]
     },
     "execution_count": 61,
     "metadata": {},
     "output_type": "execute_result"
    },
    {
     "data": {
      "image/png": "[encoded data removed]",
      "text/plain": [
       "<Figure size 432x288 with 1 Axes>"
      ]
     },
     "metadata": {
      "needs_background": "light"
     },
     "output_type": "display_data"
    }
   ],
   "source": [
    "plt.plot(df.Time,df.w)"
   ]
  },
  {
   "cell_type": "code",
   "execution_count": 63,
   "id": "a943f764",
   "metadata": {},
   "outputs": [
    {
     "data": {
      "text/plain": [
       "179.8999999999941"
      ]
     },
     "execution_count": 63,
     "metadata": {},
     "output_type": "execute_result"
    }
   ],
   "source": [
    "max(df.Time)"
   ]
  },
  {
   "cell_type": "code",
   "execution_count": 85,
   "id": "4904691c",
   "metadata": {},
   "outputs": [
    {
     "data": {
      "text/html": [
       "<div>\n",
       "<style scoped>\n",
       "    .dataframe tbody tr th:only-of-type {\n",
       "        vertical-align: middle;\n",
       "    }\n",
       "\n",
       "    .dataframe tbody tr th {\n",
       "        vertical-align: top;\n",
       "    }\n",
       "\n",
       "    .dataframe thead th {\n",
       "        text-align: right;\n",
       "    }\n",
       "</style>\n",
       "<table border=\"1\" class=\"dataframe\">\n",
       "  <thead>\n",
       "    <tr style=\"text-align: right;\">\n",
       "      <th></th>\n",
       "      <th>Time</th>\n",
       "      <th>u</th>\n",
       "      <th>v</th>\n",
       "      <th>w</th>\n",
       "      <th>x1</th>\n",
       "      <th>x2</th>\n",
       "      <th>x3</th>\n",
       "    </tr>\n",
       "  </thead>\n",
       "  <tbody>\n",
       "    <tr>\n",
       "      <th>400</th>\n",
       "      <td>40.0</td>\n",
       "      <td>-0.025406</td>\n",
       "      <td>-0.036261</td>\n",
       "      <td>0.025252</td>\n",
       "      <td>623500.4</td>\n",
       "      <td>7345316.0</td>\n",
       "      <td>-0.1</td>\n",
       "    </tr>\n",
       "  </tbody>\n",
       "</table>\n",
       "</div>"
      ],
      "text/plain": [
       "     Time         u         v         w        x1         x2   x3\n",
       "400  40.0 -0.025406 -0.036261  0.025252  623500.4  7345316.0 -0.1"
      ]
     },
     "execution_count": 85,
     "metadata": {},
     "output_type": "execute_result"
    }
   ],
   "source": [
    "# need to adjust time due to floating point errors/ rounding\n",
    "time_length = 1800\n",
    "df[\"Time\"] = np.linspace(0, 179.9, time_length)\n",
    "df.loc[df['Time'] == 40.0]"
   ]
  },
  {
   "cell_type": "code",
   "execution_count": 65,
   "id": "c225f7fe",
   "metadata": {},
   "outputs": [
    {
     "data": {
      "text/plain": [
       "179.9"
      ]
     },
     "execution_count": 65,
     "metadata": {},
     "output_type": "execute_result"
    }
   ],
   "source": [
    "max(df.Time)"
   ]
  },
  {
   "cell_type": "markdown",
   "id": "0640af1b",
   "metadata": {},
   "source": [
    "# Stack"
   ]
  },
  {
   "cell_type": "code",
   "execution_count": 66,
   "id": "4e5371b8",
   "metadata": {},
   "outputs": [],
   "source": [
    "files = glob.glob(os.path.join(directory, \"HFFZ_full-receiver*.dat\"))"
   ]
  },
  {
   "cell_type": "code",
   "execution_count": 67,
   "id": "743158a3",
   "metadata": {},
   "outputs": [],
   "source": [
    "for f in files:\n",
    "    frame = pd.read_csv(f, skiprows=5, sep='\\s+', names=column_names)\n",
    "    frame.drop(columns=[\"xx\",\"yy\",\"zz\",\"xy\",\"yz\",\"xz\"], inplace=True)\n",
    "    coords = pd.read_csv(f, nrows=3, skiprows=2, header=None, sep=\"\\s+\")\n",
    "    x1 = coords[2][0]\n",
    "    x2 = coords[2][1]\n",
    "    x3 = coords[2][2]\n",
    "    frame[\"x1\"]=x1\n",
    "    frame[\"x2\"]=x2\n",
    "    frame[\"x3\"]=x3\n",
    "    if (files[0]==f):\n",
    "        stack = frame.loc[df['Time'] == 20.0]\n",
    "    else:\n",
    "        stack = pd.concat([stack, frame.loc[df['Time'] == 20.0]])"
   ]
  },
  {
   "cell_type": "code",
   "execution_count": 68,
   "id": "f5eedc15",
   "metadata": {},
   "outputs": [],
   "source": [
    "stack.sort_values(by=\"x1\", inplace=True)"
   ]
  },
  {
   "cell_type": "code",
   "execution_count": 69,
   "id": "82550c7f",
   "metadata": {},
   "outputs": [
    {
     "data": {
      "text/plain": [
       "[<matplotlib.lines.Line2D at 0x7ff7a12830a0>]"
      ]
     },
     "execution_count": 69,
     "metadata": {},
     "output_type": "execute_result"
    },
    {
     "data": {
      "image/png": "[encoded data removed]",
      "text/plain": [
       "<Figure size 432x288 with 1 Axes>"
      ]
     },
     "metadata": {
      "needs_background": "light"
     },
     "output_type": "display_data"
    }
   ],
   "source": [
    "plt.plot(stack.x1,stack.x2,'o')"
   ]
  },
  {
   "cell_type": "code",
   "execution_count": 123,
   "id": "a86eb3b0",
   "metadata": {},
   "outputs": [
    {
     "data": {
      "image/png": "[encoded data removed]",
      "text/plain": [
       "<Figure size 432x288 with 2 Axes>"
      ]
     },
     "metadata": {
      "needs_background": "light"
     },
     "output_type": "display_data"
    }
   ],
   "source": [
    "sc = plt.scatter(stack.x1,stack.x2, c=stack.w, vmin=-0.6, vmax=0.6, s=40, cmap=cm.cork)\n",
    "plt.colorbar(sc)\n",
    "plt.xlabel(\"x-coord\")\n",
    "plt.ylabel(\"y-coord\")\n",
    "plt.title(\"ssva [m/s] @ t = {:.2f}\".format(stack[\"Time\"].iloc[0]))\n",
    "plt.show()"
   ]
  },
  {
   "cell_type": "code",
   "execution_count": 71,
   "id": "0a9c4a68",
   "metadata": {},
   "outputs": [],
   "source": [
    "# calculate distance - Attention, might be wrong!!!\n",
    "#stack['Distance'] = 0\n",
    "#for i in range(len(stack)-1):\n",
    "#    stack['Distance'].iloc[i+1] = stack['Distance'].iloc[i] + np.sqrt((stack['x1'].iloc[i+1] - stack['x1'].iloc[i])**2 + (stack['x2'].iloc[i+1] - stack['x2'].iloc[i])**2)\n",
    "#stack"
   ]
  },
  {
   "cell_type": "code",
   "execution_count": 72,
   "id": "e276ea65",
   "metadata": {},
   "outputs": [],
   "source": [
    "# Attention: distance might be wrong due to curvature of the Earth\n",
    "#plt.plot(stack.Distance, stack.w)"
   ]
  },
  {
   "cell_type": "markdown",
   "id": "3372e6e6",
   "metadata": {},
   "source": [
    "# Check distance"
   ]
  },
  {
   "cell_type": "code",
   "execution_count": 73,
   "id": "40541cfc",
   "metadata": {},
   "outputs": [],
   "source": [
    "def conversion_xy2length(x_start,y_start,x_end,y_end):\n",
    "    from pyproj import Transformer\n",
    "    transformer = Transformer.from_crs(\"utm27\", \"epsg:4326\", always_xy=True)\n",
    "    lon_start, lat_start = transformer.transform(x_start, y_start)\n",
    "    lon_end, lat_end = transformer.transform(x_end, y_end)\n",
    "    \n",
    "    import geopy.distance \n",
    "    coords_1 = (lon_start, lat_start)\n",
    "    coords_2 = (lon_end, lat_end)\n",
    "    length = geopy.distance.geodesic(coords_1, coords_2).km\n",
    "    return length "
   ]
  },
  {
   "cell_type": "code",
   "execution_count": 74,
   "id": "2772a18e",
   "metadata": {},
   "outputs": [
    {
     "data": {
      "text/plain": [
       "68.32498502761707"
      ]
     },
     "execution_count": 74,
     "metadata": {},
     "output_type": "execute_result"
    }
   ],
   "source": [
    "x_start = stack['x1'].iloc[0]\n",
    "y_start = stack['x2'].iloc[0]\n",
    "x_end = stack[\"x1\"].iloc[len(stack)-1]\n",
    "y_end = stack[\"x2\"].iloc[len(stack)-1]\n",
    "\n",
    "length = conversion_xy2length(x_start,y_start,x_end,y_end)\n",
    "length "
   ]
  },
  {
   "cell_type": "code",
   "execution_count": 75,
   "id": "8b4c43de",
   "metadata": {},
   "outputs": [
    {
     "data": {
      "text/plain": [
       "1001"
      ]
     },
     "execution_count": 75,
     "metadata": {},
     "output_type": "execute_result"
    }
   ],
   "source": [
    "distance = np.linspace(0,length,len(stack))\n",
    "len(distance)"
   ]
  },
  {
   "cell_type": "code",
   "execution_count": 124,
   "id": "58926c01",
   "metadata": {},
   "outputs": [
    {
     "data": {
      "text/plain": [
       "Text(0.5, 1.0, 'trace @ t = 20.00')"
      ]
     },
     "execution_count": 124,
     "metadata": {},
     "output_type": "execute_result"
    },
    {
     "data": {
      "image/png": "[encoded data removed]",
      "text/plain": [
       "<Figure size 432x288 with 1 Axes>"
      ]
     },
     "metadata": {
      "needs_background": "light"
     },
     "output_type": "display_data"
    }
   ],
   "source": [
    "plt.plot(distance, stack.w)\n",
    "plt.xlabel(\"Distance [km]\")\n",
    "plt.ylabel(\"ssva [m/s]\")\n",
    "plt.title(\"trace @ t = {:.2f}\".format(stack[\"Time\"].iloc[0]))"
   ]
  },
  {
   "cell_type": "markdown",
   "id": "db7f636b",
   "metadata": {},
   "source": [
    "# Make 2D surface plot"
   ]
  },
  {
   "cell_type": "code",
   "execution_count": 77,
   "id": "c659fd3c",
   "metadata": {},
   "outputs": [
    {
     "data": {
      "text/html": [
       "<div>\n",
       "<style scoped>\n",
       "    .dataframe tbody tr th:only-of-type {\n",
       "        vertical-align: middle;\n",
       "    }\n",
       "\n",
       "    .dataframe tbody tr th {\n",
       "        vertical-align: top;\n",
       "    }\n",
       "\n",
       "    .dataframe thead th {\n",
       "        text-align: right;\n",
       "    }\n",
       "</style>\n",
       "<table border=\"1\" class=\"dataframe\">\n",
       "  <thead>\n",
       "    <tr style=\"text-align: right;\">\n",
       "      <th></th>\n",
       "      <th>Time</th>\n",
       "      <th>u</th>\n",
       "      <th>v</th>\n",
       "      <th>w</th>\n",
       "      <th>x1</th>\n",
       "      <th>x2</th>\n",
       "      <th>x3</th>\n",
       "    </tr>\n",
       "  </thead>\n",
       "  <tbody>\n",
       "    <tr>\n",
       "      <th>200</th>\n",
       "      <td>20.0</td>\n",
       "      <td>0.000475</td>\n",
       "      <td>-0.000091</td>\n",
       "      <td>-0.017425</td>\n",
       "      <td>612800.0</td>\n",
       "      <td>7327000.0</td>\n",
       "      <td>-0.1</td>\n",
       "    </tr>\n",
       "    <tr>\n",
       "      <th>200</th>\n",
       "      <td>20.0</td>\n",
       "      <td>0.001114</td>\n",
       "      <td>0.002929</td>\n",
       "      <td>-0.017835</td>\n",
       "      <td>612822.2</td>\n",
       "      <td>7327038.0</td>\n",
       "      <td>-0.1</td>\n",
       "    </tr>\n",
       "    <tr>\n",
       "      <th>200</th>\n",
       "      <td>20.0</td>\n",
       "      <td>-0.000354</td>\n",
       "      <td>0.000189</td>\n",
       "      <td>-0.018036</td>\n",
       "      <td>612844.4</td>\n",
       "      <td>7327076.0</td>\n",
       "      <td>-0.1</td>\n",
       "    </tr>\n",
       "    <tr>\n",
       "      <th>200</th>\n",
       "      <td>20.0</td>\n",
       "      <td>-0.001399</td>\n",
       "      <td>0.000155</td>\n",
       "      <td>-0.017835</td>\n",
       "      <td>612866.6</td>\n",
       "      <td>7327114.0</td>\n",
       "      <td>-0.1</td>\n",
       "    </tr>\n",
       "    <tr>\n",
       "      <th>200</th>\n",
       "      <td>20.0</td>\n",
       "      <td>-0.002116</td>\n",
       "      <td>0.000039</td>\n",
       "      <td>-0.017665</td>\n",
       "      <td>612888.8</td>\n",
       "      <td>7327152.0</td>\n",
       "      <td>-0.1</td>\n",
       "    </tr>\n",
       "    <tr>\n",
       "      <th>...</th>\n",
       "      <td>...</td>\n",
       "      <td>...</td>\n",
       "      <td>...</td>\n",
       "      <td>...</td>\n",
       "      <td>...</td>\n",
       "      <td>...</td>\n",
       "      <td>...</td>\n",
       "    </tr>\n",
       "    <tr>\n",
       "      <th>200</th>\n",
       "      <td>20.0</td>\n",
       "      <td>-0.000247</td>\n",
       "      <td>0.000027</td>\n",
       "      <td>-0.004812</td>\n",
       "      <td>634911.2</td>\n",
       "      <td>7364848.0</td>\n",
       "      <td>-0.1</td>\n",
       "    </tr>\n",
       "    <tr>\n",
       "      <th>200</th>\n",
       "      <td>20.0</td>\n",
       "      <td>-0.000246</td>\n",
       "      <td>0.000110</td>\n",
       "      <td>-0.005778</td>\n",
       "      <td>634933.4</td>\n",
       "      <td>7364886.0</td>\n",
       "      <td>-0.1</td>\n",
       "    </tr>\n",
       "    <tr>\n",
       "      <th>200</th>\n",
       "      <td>20.0</td>\n",
       "      <td>-0.000243</td>\n",
       "      <td>0.000274</td>\n",
       "      <td>-0.006922</td>\n",
       "      <td>634955.6</td>\n",
       "      <td>7364924.0</td>\n",
       "      <td>-0.1</td>\n",
       "    </tr>\n",
       "    <tr>\n",
       "      <th>200</th>\n",
       "      <td>20.0</td>\n",
       "      <td>-0.000255</td>\n",
       "      <td>0.000452</td>\n",
       "      <td>-0.008695</td>\n",
       "      <td>634977.8</td>\n",
       "      <td>7364962.0</td>\n",
       "      <td>-0.1</td>\n",
       "    </tr>\n",
       "    <tr>\n",
       "      <th>200</th>\n",
       "      <td>20.0</td>\n",
       "      <td>-0.000255</td>\n",
       "      <td>0.000486</td>\n",
       "      <td>-0.012426</td>\n",
       "      <td>635000.0</td>\n",
       "      <td>7365000.0</td>\n",
       "      <td>-0.1</td>\n",
       "    </tr>\n",
       "  </tbody>\n",
       "</table>\n",
       "<p>1001 rows × 7 columns</p>\n",
       "</div>"
      ],
      "text/plain": [
       "     Time         u         v         w        x1         x2   x3\n",
       "200  20.0  0.000475 -0.000091 -0.017425  612800.0  7327000.0 -0.1\n",
       "200  20.0  0.001114  0.002929 -0.017835  612822.2  7327038.0 -0.1\n",
       "200  20.0 -0.000354  0.000189 -0.018036  612844.4  7327076.0 -0.1\n",
       "200  20.0 -0.001399  0.000155 -0.017835  612866.6  7327114.0 -0.1\n",
       "200  20.0 -0.002116  0.000039 -0.017665  612888.8  7327152.0 -0.1\n",
       "..    ...       ...       ...       ...       ...        ...  ...\n",
       "200  20.0 -0.000247  0.000027 -0.004812  634911.2  7364848.0 -0.1\n",
       "200  20.0 -0.000246  0.000110 -0.005778  634933.4  7364886.0 -0.1\n",
       "200  20.0 -0.000243  0.000274 -0.006922  634955.6  7364924.0 -0.1\n",
       "200  20.0 -0.000255  0.000452 -0.008695  634977.8  7364962.0 -0.1\n",
       "200  20.0 -0.000255  0.000486 -0.012426  635000.0  7365000.0 -0.1\n",
       "\n",
       "[1001 rows x 7 columns]"
      ]
     },
     "execution_count": 77,
     "metadata": {},
     "output_type": "execute_result"
    }
   ],
   "source": [
    "stack"
   ]
  },
  {
   "cell_type": "code",
   "execution_count": 81,
   "id": "44e8488f",
   "metadata": {},
   "outputs": [],
   "source": [
    "DISTANCE, TIME = np.meshgrid(distance,stack.Time)"
   ]
  },
  {
   "cell_type": "code",
   "execution_count": 89,
   "id": "48a58e8e",
   "metadata": {},
   "outputs": [],
   "source": [
    "row_nr = len(stack)\n",
    "col_nr = time_length\n",
    "rows, cols = (row_nr, col_nr)\n",
    "arr=[]\n",
    "for i in range(rows):\n",
    "    col = []\n",
    "    for j in range(cols):\n",
    "        col.append(0)\n",
    "    arr.append(col)"
   ]
  },
  {
   "cell_type": "code",
   "execution_count": 91,
   "id": "63899326",
   "metadata": {},
   "outputs": [
    {
     "data": {
      "text/plain": [
       "((1, 101), (101, 1), (101, 101))"
      ]
     },
     "execution_count": 91,
     "metadata": {},
     "output_type": "execute_result"
    }
   ],
   "source": [
    "x = np.linspace(-5, 5, 101)\n",
    "\n",
    "y = np.linspace(-5, 5, 101)\n",
    "\n",
    "# full coordinate arrays\n",
    "\n",
    "xx, yy = np.meshgrid(x, y)\n",
    "\n",
    "zz = np.sqrt(xx**2 + yy**2)\n",
    "\n",
    "xx.shape, yy.shape, zz.shape\n",
    "((101, 101), (101, 101), (101, 101))\n",
    "\n",
    "# sparse coordinate arrays\n",
    "\n",
    "xs, ys = np.meshgrid(x, y, sparse=True)\n",
    "\n",
    "zs = np.sqrt(xs**2 + ys**2)\n",
    "\n",
    "xs.shape, ys.shape, zs.shape\n",
    "((1, 101), (101, 1), (101, 101))"
   ]
  },
  {
   "cell_type": "code",
   "execution_count": 96,
   "id": "3d96b9ee",
   "metadata": {},
   "outputs": [],
   "source": [
    "ti = np.linspace(0, 179.9, time_length)\n",
    "#distance"
   ]
  },
  {
   "cell_type": "code",
   "execution_count": 97,
   "id": "8e72b506",
   "metadata": {},
   "outputs": [],
   "source": [
    "DI, TI = np.meshgrid(distance, ti)"
   ]
  },
  {
   "cell_type": "code",
   "execution_count": 107,
   "id": "2dec4847",
   "metadata": {},
   "outputs": [
    {
     "data": {
      "text/plain": [
       "200   -0.017425\n",
       "200   -0.017835\n",
       "200   -0.018036\n",
       "200   -0.017835\n",
       "200   -0.017665\n",
       "         ...   \n",
       "200   -0.004812\n",
       "200   -0.005778\n",
       "200   -0.006922\n",
       "200   -0.008695\n",
       "200   -0.012426\n",
       "Name: w, Length: 1001, dtype: float64"
      ]
     },
     "execution_count": 107,
     "metadata": {},
     "output_type": "execute_result"
    }
   ],
   "source": [
    "ssva = (stack.w)\n",
    "ssva"
   ]
  },
  {
   "cell_type": "code",
   "execution_count": 106,
   "id": "bfd774af",
   "metadata": {},
   "outputs": [
    {
     "data": {
      "text/plain": [
       "((1800, 1001), (1800, 1001), (1001,))"
      ]
     },
     "execution_count": 106,
     "metadata": {},
     "output_type": "execute_result"
    }
   ],
   "source": [
    "DI.shape, TI.shape, ssva.shape"
   ]
  },
  {
   "cell_type": "code",
   "execution_count": 116,
   "id": "0cd2b15d",
   "metadata": {},
   "outputs": [
    {
     "data": {
      "text/plain": [
       "(1800, 1001)"
      ]
     },
     "execution_count": 116,
     "metadata": {},
     "output_type": "execute_result"
    }
   ],
   "source": [
    "SSVA = np.tile(ssva, (time_length, 1))\n",
    "SSVA.shape"
   ]
  },
  {
   "cell_type": "code",
   "execution_count": 127,
   "id": "ec26ebed",
   "metadata": {},
   "outputs": [
    {
     "data": {
      "text/plain": [
       "<matplotlib.colorbar.Colorbar at 0x7ff79c19f550>"
      ]
     },
     "execution_count": 127,
     "metadata": {},
     "output_type": "execute_result"
    },
    {
     "data": {
      "image/png": "[encoded data removed]",
      "text/plain": [
       "<Figure size 432x288 with 2 Axes>"
      ]
     },
     "metadata": {
      "needs_background": "light"
     },
     "output_type": "display_data"
    }
   ],
   "source": [
    "plt.contourf(DI, TI, SSVA)\n",
    "plt.xlabel(\"Distance [km]\")\n",
    "plt.ylabel(\"Time [s]\")\n",
    "plt.title(\"ssva [m/s] @ t = {:.2f}\".format(stack[\"Time\"].iloc[0]))\n",
    "plt.colorbar()"
   ]
  },
  {
   "cell_type": "code",
   "execution_count": 129,
   "id": "b3dcc98a",
   "metadata": {},
   "outputs": [
    {
     "data": {
      "text/plain": [
       "<matplotlib.colorbar.Colorbar at 0x7ff7962ce9a0>"
      ]
     },
     "execution_count": 129,
     "metadata": {},
     "output_type": "execute_result"
    },
    {
     "data": {
      "image/png": "[encoded data removed]",
      "text/plain": [
       "<Figure size 432x288 with 2 Axes>"
      ]
     },
     "metadata": {
      "needs_background": "light"
     },
     "output_type": "display_data"
    }
   ],
   "source": [
    "h = plt.contourf(DI, TI, SSVA, cmap=cm.cork)\n",
    "plt.colorbar(h)"
   ]
  }
 ],
 "metadata": {
  "kernelspec": {
   "display_name": "Python 3 (ipykernel)",
   "language": "python",
   "name": "python3"
  },
  "language_info": {
   "codemirror_mode": {
    "name": "ipython",
    "version": 3
   },
   "file_extension": ".py",
   "mimetype": "text/x-python",
   "name": "python",
   "nbconvert_exporter": "python",
   "pygments_lexer": "ipython3",
   "version": "3.9.7"
  }
 },
 "nbformat": 4,
 "nbformat_minor": 5
}
