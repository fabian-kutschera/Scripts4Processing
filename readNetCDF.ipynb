{
 "cells": [
  {
   "cell_type": "code",
   "execution_count": 1,
   "id": "fea6c107",
   "metadata": {},
   "outputs": [],
   "source": [
    "import netCDF4 as nc"
   ]
  },
  {
   "cell_type": "code",
   "execution_count": 2,
   "id": "31596c5c",
   "metadata": {},
   "outputs": [],
   "source": [
    "fn = '/import/freenas-m-05-seissol/kutschera/HIWI/Scripts/TeleseismicDataRelated/vel_test.nc'\n",
    "ds = nc.Dataset(fn)"
   ]
  },
  {
   "cell_type": "code",
   "execution_count": 3,
   "id": "9a197c4d",
   "metadata": {},
   "outputs": [
    {
     "name": "stdout",
     "output_type": "stream",
     "text": [
      "<class 'netCDF4._netCDF4.Dataset'>\n",
      "root group (NETCDF4 data model, file format HDF5):\n",
      "    dimensions(sizes): x(123), y(477), z(23)\n",
      "    variables(dimensions): float32 x(x), float32 y(y), float32 z(z), {'names':['rho','mu','lambda'], 'formats':['<f4','<f4','<f4'], 'offsets':[0,4,8], 'itemsize':12, 'aligned':True} data(z, y, x)\n",
      "    groups: \n"
     ]
    }
   ],
   "source": [
    "print(ds)"
   ]
  },
  {
   "cell_type": "code",
   "execution_count": 4,
   "id": "27ccc9c5",
   "metadata": {},
   "outputs": [
    {
     "name": "stdout",
     "output_type": "stream",
     "text": [
      "<class 'netCDF4._netCDF4.Dimension'>: name = 'x', size = 123\n",
      "<class 'netCDF4._netCDF4.Dimension'>: name = 'y', size = 477\n",
      "<class 'netCDF4._netCDF4.Dimension'>: name = 'z', size = 23\n"
     ]
    }
   ],
   "source": [
    "for dim in ds.dimensions.values():\n",
    "    print(dim)"
   ]
  },
  {
   "cell_type": "code",
   "execution_count": 5,
   "id": "d6cf9e8e",
   "metadata": {},
   "outputs": [
    {
     "name": "stdout",
     "output_type": "stream",
     "text": [
      "<class 'netCDF4._netCDF4.Variable'>\n",
      "float32 x(x)\n",
      "unlimited dimensions: \n",
      "current shape = (123,)\n",
      "filling on, default _FillValue of 9.969209968386869e+36 used\n",
      "<class 'netCDF4._netCDF4.Variable'>\n",
      "float32 y(y)\n",
      "unlimited dimensions: \n",
      "current shape = (477,)\n",
      "filling on, default _FillValue of 9.969209968386869e+36 used\n",
      "<class 'netCDF4._netCDF4.Variable'>\n",
      "float32 z(z)\n",
      "unlimited dimensions: \n",
      "current shape = (23,)\n",
      "filling on, default _FillValue of 9.969209968386869e+36 used\n",
      "<class 'netCDF4._netCDF4.Variable'>\n",
      "compound data(z, y, x)\n",
      "compound data type: {'names':['rho','mu','lambda'], 'formats':['<f4','<f4','<f4'], 'offsets':[0,4,8], 'itemsize':12, 'aligned':True}\n",
      "unlimited dimensions: \n",
      "current shape = (23, 477, 123)\n"
     ]
    }
   ],
   "source": [
    "for var in ds.variables.values():\n",
    "    print(var)"
   ]
  },
  {
   "cell_type": "code",
   "execution_count": 6,
   "id": "c29873ed",
   "metadata": {},
   "outputs": [
    {
     "name": "stdout",
     "output_type": "stream",
     "text": [
      "<class 'netCDF4._netCDF4.Variable'>\n",
      "float32 x(x)\n",
      "unlimited dimensions: \n",
      "current shape = (123,)\n",
      "filling on, default _FillValue of 9.969209968386869e+36 used\n"
     ]
    }
   ],
   "source": [
    "print(ds['x'])"
   ]
  },
  {
   "cell_type": "code",
   "execution_count": 7,
   "id": "589e1305",
   "metadata": {},
   "outputs": [
    {
     "name": "stdout",
     "output_type": "stream",
     "text": [
      "{'x': <class 'netCDF4._netCDF4.Variable'>\n",
      "float32 x(x)\n",
      "unlimited dimensions: \n",
      "current shape = (123,)\n",
      "filling on, default _FillValue of 9.969209968386869e+36 used, 'y': <class 'netCDF4._netCDF4.Variable'>\n",
      "float32 y(y)\n",
      "unlimited dimensions: \n",
      "current shape = (477,)\n",
      "filling on, default _FillValue of 9.969209968386869e+36 used, 'z': <class 'netCDF4._netCDF4.Variable'>\n",
      "float32 z(z)\n",
      "unlimited dimensions: \n",
      "current shape = (23,)\n",
      "filling on, default _FillValue of 9.969209968386869e+36 used, 'data': <class 'netCDF4._netCDF4.Variable'>\n",
      "compound data(z, y, x)\n",
      "compound data type: {'names':['rho','mu','lambda'], 'formats':['<f4','<f4','<f4'], 'offsets':[0,4,8], 'itemsize':12, 'aligned':True}\n",
      "unlimited dimensions: \n",
      "current shape = (23, 477, 123)}\n"
     ]
    }
   ],
   "source": [
    "print(ds.variables)"
   ]
  },
  {
   "cell_type": "code",
   "execution_count": 12,
   "id": "3227e911",
   "metadata": {},
   "outputs": [
    {
     "name": "stdout",
     "output_type": "stream",
     "text": [
      "1625.0\n"
     ]
    }
   ],
   "source": [
    "print(ds['z'][0])"
   ]
  },
  {
   "cell_type": "code",
   "execution_count": null,
   "id": "6d870e01",
   "metadata": {},
   "outputs": [],
   "source": []
  }
 ],
 "metadata": {
  "kernelspec": {
   "display_name": "Python 3 (ipykernel)",
   "language": "python",
   "name": "python3"
  },
  "language_info": {
   "codemirror_mode": {
    "name": "ipython",
    "version": 3
   },
   "file_extension": ".py",
   "mimetype": "text/x-python",
   "name": "python",
   "nbconvert_exporter": "python",
   "pygments_lexer": "ipython3",
   "version": "3.9.7"
  }
 },
 "nbformat": 4,
 "nbformat_minor": 5
}
